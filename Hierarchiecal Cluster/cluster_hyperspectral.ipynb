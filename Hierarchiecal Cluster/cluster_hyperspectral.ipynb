{
 "cells": [
  {
   "cell_type": "code",
   "execution_count": 1,
   "id": "1ab9c084",
   "metadata": {},
   "outputs": [],
   "source": [
    "import pandas as pd\n",
    "import matplotlib.pyplot as plt\n",
    "import numpy as np"
   ]
  },
  {
   "cell_type": "code",
   "execution_count": 2,
   "id": "9b969b0c",
   "metadata": {},
   "outputs": [],
   "source": [
    "df = pd.read_csv('data.csv')"
   ]
  },
  {
   "cell_type": "code",
   "execution_count": 3,
   "id": "d05f41d9",
   "metadata": {},
   "outputs": [
    {
     "data": {
      "text/html": [
       "<div>\n",
       "<style scoped>\n",
       "    .dataframe tbody tr th:only-of-type {\n",
       "        vertical-align: middle;\n",
       "    }\n",
       "\n",
       "    .dataframe tbody tr th {\n",
       "        vertical-align: top;\n",
       "    }\n",
       "\n",
       "    .dataframe thead th {\n",
       "        text-align: right;\n",
       "    }\n",
       "</style>\n",
       "<table border=\"1\" class=\"dataframe\">\n",
       "  <thead>\n",
       "    <tr style=\"text-align: right;\">\n",
       "      <th></th>\n",
       "      <th>Unnamed: 0</th>\n",
       "      <th>0</th>\n",
       "      <th>1</th>\n",
       "      <th>2</th>\n",
       "      <th>3</th>\n",
       "      <th>4</th>\n",
       "      <th>5</th>\n",
       "      <th>6</th>\n",
       "      <th>7</th>\n",
       "      <th>8</th>\n",
       "      <th>...</th>\n",
       "      <th>221</th>\n",
       "      <th>222</th>\n",
       "      <th>223</th>\n",
       "      <th>224</th>\n",
       "      <th>225</th>\n",
       "      <th>226</th>\n",
       "      <th>227</th>\n",
       "      <th>228</th>\n",
       "      <th>229</th>\n",
       "      <th>minerals</th>\n",
       "    </tr>\n",
       "  </thead>\n",
       "  <tbody>\n",
       "    <tr>\n",
       "      <th>0</th>\n",
       "      <td>0</td>\n",
       "      <td>0.0</td>\n",
       "      <td>0.0</td>\n",
       "      <td>0.0</td>\n",
       "      <td>0.0</td>\n",
       "      <td>0.0</td>\n",
       "      <td>0.0</td>\n",
       "      <td>0.0</td>\n",
       "      <td>0.0</td>\n",
       "      <td>0.0</td>\n",
       "      <td>...</td>\n",
       "      <td>0.0</td>\n",
       "      <td>0.0</td>\n",
       "      <td>0.0</td>\n",
       "      <td>0.0</td>\n",
       "      <td>0.0</td>\n",
       "      <td>0.0</td>\n",
       "      <td>0.0</td>\n",
       "      <td>0.0</td>\n",
       "      <td>0.0</td>\n",
       "      <td>1</td>\n",
       "    </tr>\n",
       "    <tr>\n",
       "      <th>1</th>\n",
       "      <td>1</td>\n",
       "      <td>0.0</td>\n",
       "      <td>0.0</td>\n",
       "      <td>0.0</td>\n",
       "      <td>0.0</td>\n",
       "      <td>0.0</td>\n",
       "      <td>0.0</td>\n",
       "      <td>0.0</td>\n",
       "      <td>0.0</td>\n",
       "      <td>0.0</td>\n",
       "      <td>...</td>\n",
       "      <td>0.0</td>\n",
       "      <td>0.0</td>\n",
       "      <td>0.0</td>\n",
       "      <td>0.0</td>\n",
       "      <td>0.0</td>\n",
       "      <td>0.0</td>\n",
       "      <td>0.0</td>\n",
       "      <td>0.0</td>\n",
       "      <td>0.0</td>\n",
       "      <td>1</td>\n",
       "    </tr>\n",
       "    <tr>\n",
       "      <th>2</th>\n",
       "      <td>2</td>\n",
       "      <td>0.0</td>\n",
       "      <td>0.0</td>\n",
       "      <td>0.0</td>\n",
       "      <td>0.0</td>\n",
       "      <td>0.0</td>\n",
       "      <td>0.0</td>\n",
       "      <td>0.0</td>\n",
       "      <td>0.0</td>\n",
       "      <td>0.0</td>\n",
       "      <td>...</td>\n",
       "      <td>0.0</td>\n",
       "      <td>0.0</td>\n",
       "      <td>0.0</td>\n",
       "      <td>0.0</td>\n",
       "      <td>0.0</td>\n",
       "      <td>0.0</td>\n",
       "      <td>0.0</td>\n",
       "      <td>0.0</td>\n",
       "      <td>0.0</td>\n",
       "      <td>1</td>\n",
       "    </tr>\n",
       "    <tr>\n",
       "      <th>3</th>\n",
       "      <td>3</td>\n",
       "      <td>0.0</td>\n",
       "      <td>0.0</td>\n",
       "      <td>0.0</td>\n",
       "      <td>0.0</td>\n",
       "      <td>0.0</td>\n",
       "      <td>0.0</td>\n",
       "      <td>0.0</td>\n",
       "      <td>0.0</td>\n",
       "      <td>0.0</td>\n",
       "      <td>...</td>\n",
       "      <td>0.0</td>\n",
       "      <td>0.0</td>\n",
       "      <td>0.0</td>\n",
       "      <td>0.0</td>\n",
       "      <td>0.0</td>\n",
       "      <td>0.0</td>\n",
       "      <td>0.0</td>\n",
       "      <td>0.0</td>\n",
       "      <td>0.0</td>\n",
       "      <td>1</td>\n",
       "    </tr>\n",
       "    <tr>\n",
       "      <th>4</th>\n",
       "      <td>4</td>\n",
       "      <td>0.0</td>\n",
       "      <td>0.0</td>\n",
       "      <td>0.0</td>\n",
       "      <td>0.0</td>\n",
       "      <td>0.0</td>\n",
       "      <td>0.0</td>\n",
       "      <td>0.0</td>\n",
       "      <td>0.0</td>\n",
       "      <td>0.0</td>\n",
       "      <td>...</td>\n",
       "      <td>0.0</td>\n",
       "      <td>0.0</td>\n",
       "      <td>0.0</td>\n",
       "      <td>0.0</td>\n",
       "      <td>0.0</td>\n",
       "      <td>0.0</td>\n",
       "      <td>0.0</td>\n",
       "      <td>0.0</td>\n",
       "      <td>0.0</td>\n",
       "      <td>1</td>\n",
       "    </tr>\n",
       "  </tbody>\n",
       "</table>\n",
       "<p>5 rows × 232 columns</p>\n",
       "</div>"
      ],
      "text/plain": [
       "   Unnamed: 0    0    1    2    3    4    5    6    7    8  ...  221  222  \\\n",
       "0           0  0.0  0.0  0.0  0.0  0.0  0.0  0.0  0.0  0.0  ...  0.0  0.0   \n",
       "1           1  0.0  0.0  0.0  0.0  0.0  0.0  0.0  0.0  0.0  ...  0.0  0.0   \n",
       "2           2  0.0  0.0  0.0  0.0  0.0  0.0  0.0  0.0  0.0  ...  0.0  0.0   \n",
       "3           3  0.0  0.0  0.0  0.0  0.0  0.0  0.0  0.0  0.0  ...  0.0  0.0   \n",
       "4           4  0.0  0.0  0.0  0.0  0.0  0.0  0.0  0.0  0.0  ...  0.0  0.0   \n",
       "\n",
       "   223  224  225  226  227  228  229  minerals  \n",
       "0  0.0  0.0  0.0  0.0  0.0  0.0  0.0         1  \n",
       "1  0.0  0.0  0.0  0.0  0.0  0.0  0.0         1  \n",
       "2  0.0  0.0  0.0  0.0  0.0  0.0  0.0         1  \n",
       "3  0.0  0.0  0.0  0.0  0.0  0.0  0.0         1  \n",
       "4  0.0  0.0  0.0  0.0  0.0  0.0  0.0         1  \n",
       "\n",
       "[5 rows x 232 columns]"
      ]
     },
     "execution_count": 3,
     "metadata": {},
     "output_type": "execute_result"
    }
   ],
   "source": [
    "df.head()"
   ]
  },
  {
   "cell_type": "code",
   "execution_count": 4,
   "id": "348ed743",
   "metadata": {},
   "outputs": [
    {
     "data": {
      "text/plain": [
       "array([1, 2, 4, 0, 3], dtype=int64)"
      ]
     },
     "execution_count": 4,
     "metadata": {},
     "output_type": "execute_result"
    }
   ],
   "source": [
    "df.minerals.unique()"
   ]
  },
  {
   "cell_type": "code",
   "execution_count": 5,
   "id": "7e63a9ae",
   "metadata": {},
   "outputs": [
    {
     "data": {
      "text/plain": [
       "Index(['Unnamed: 0', '0', '1', '2', '3', '4', '5', '6', '7', '8',\n",
       "       ...\n",
       "       '221', '222', '223', '224', '225', '226', '227', '228', '229',\n",
       "       'minerals'],\n",
       "      dtype='object', length=232)"
      ]
     },
     "execution_count": 5,
     "metadata": {},
     "output_type": "execute_result"
    }
   ],
   "source": [
    "df.columns\n"
   ]
  },
  {
   "cell_type": "code",
   "execution_count": 6,
   "id": "c1bdf66d",
   "metadata": {},
   "outputs": [
    {
     "name": "stdout",
     "output_type": "stream",
     "text": [
      "         0    1    2    3    4    5    6    7    8    9  ...  220  221  222  \\\n",
      "0      0.0  0.0  0.0  0.0  0.0  0.0  0.0  0.0  0.0  0.0  ...  0.0  0.0  0.0   \n",
      "1      0.0  0.0  0.0  0.0  0.0  0.0  0.0  0.0  0.0  0.0  ...  0.0  0.0  0.0   \n",
      "2      0.0  0.0  0.0  0.0  0.0  0.0  0.0  0.0  0.0  0.0  ...  0.0  0.0  0.0   \n",
      "3      0.0  0.0  0.0  0.0  0.0  0.0  0.0  0.0  0.0  0.0  ...  0.0  0.0  0.0   \n",
      "4      0.0  0.0  0.0  0.0  0.0  0.0  0.0  0.0  0.0  0.0  ...  0.0  0.0  0.0   \n",
      "...    ...  ...  ...  ...  ...  ...  ...  ...  ...  ...  ...  ...  ...  ...   \n",
      "56995  0.0  0.0  0.0  0.0  0.0  0.0  0.0  0.0  0.0  0.0  ...  0.0  0.0  0.0   \n",
      "56996  0.0  0.0  0.0  0.0  0.0  0.0  0.0  0.0  0.0  0.0  ...  0.0  0.0  0.0   \n",
      "56997  0.0  0.0  0.0  0.0  0.0  0.0  0.0  0.0  0.0  0.0  ...  0.0  0.0  0.0   \n",
      "56998  0.0  0.0  0.0  0.0  0.0  0.0  0.0  0.0  0.0  0.0  ...  0.0  0.0  0.0   \n",
      "56999  0.0  0.0  0.0  0.0  0.0  0.0  0.0  0.0  0.0  0.0  ...  0.0  0.0  0.0   \n",
      "\n",
      "       223  224  225  226  227  228  229  \n",
      "0      0.0  0.0  0.0  0.0  0.0  0.0  0.0  \n",
      "1      0.0  0.0  0.0  0.0  0.0  0.0  0.0  \n",
      "2      0.0  0.0  0.0  0.0  0.0  0.0  0.0  \n",
      "3      0.0  0.0  0.0  0.0  0.0  0.0  0.0  \n",
      "4      0.0  0.0  0.0  0.0  0.0  0.0  0.0  \n",
      "...    ...  ...  ...  ...  ...  ...  ...  \n",
      "56995  0.0  0.0  0.0  0.0  0.0  0.0  0.0  \n",
      "56996  0.0  0.0  0.0  0.0  0.0  0.0  0.0  \n",
      "56997  0.0  0.0  0.0  0.0  0.0  0.0  0.0  \n",
      "56998  0.0  0.0  0.0  0.0  0.0  0.0  0.0  \n",
      "56999  0.0  0.0  0.0  0.0  0.0  0.0  0.0  \n",
      "\n",
      "[57000 rows x 230 columns]\n"
     ]
    }
   ],
   "source": [
    "df.drop(['Unnamed: 0','minerals'],axis=1, inplace=True)\n",
    "print(df)"
   ]
  },
  {
   "cell_type": "code",
   "execution_count": 7,
   "id": "6a52e21c",
   "metadata": {},
   "outputs": [],
   "source": [
    "df = df[(df.T != 0).any()]"
   ]
  },
  {
   "cell_type": "code",
   "execution_count": 8,
   "id": "8f2e9e3c",
   "metadata": {},
   "outputs": [],
   "source": [
    "# df = df.replace(0,np.nan)\n",
    "# df.head()"
   ]
  },
  {
   "cell_type": "code",
   "execution_count": 9,
   "id": "84cf6549",
   "metadata": {},
   "outputs": [],
   "source": [
    "import scipy.cluster.hierarchy as sch"
   ]
  },
  {
   "cell_type": "code",
   "execution_count": 10,
   "id": "1fffffac",
   "metadata": {},
   "outputs": [],
   "source": [
    "from scipy.cluster.hierarchy import ward, median, centroid, weighted, average, complete, single, fcluster\n",
    "from scipy.spatial.distance import pdist"
   ]
  },
  {
   "cell_type": "code",
   "execution_count": 11,
   "id": "11620ca1",
   "metadata": {},
   "outputs": [],
   "source": [
    "wrd = sch.linkage(df, method  = \"ward\")"
   ]
  },
  {
   "cell_type": "code",
   "execution_count": 12,
   "id": "99f3b032",
   "metadata": {},
   "outputs": [
    {
     "data": {
      "image/png": "[encoded data removed]",
      "text/plain": [
       "<Figure size 1080x576 with 1 Axes>"
      ]
     },
     "metadata": {
      "needs_background": "light"
     },
     "output_type": "display_data"
    }
   ],
   "source": [
    "plt.figure(figsize=(15,8))\n",
    "dend = sch.dendrogram(wrd)\n",
    "plt.title('Ward')\n",
    "plt.xlabel('Samples')\n",
    "plt.ylabel('Euclidean distances')\n",
    "plt.show()"
   ]
  },
  {
   "cell_type": "code",
   "execution_count": 13,
   "id": "6af661ad",
   "metadata": {},
   "outputs": [
    {
     "data": {
      "text/html": [
       "<div>\n",
       "<style scoped>\n",
       "    .dataframe tbody tr th:only-of-type {\n",
       "        vertical-align: middle;\n",
       "    }\n",
       "\n",
       "    .dataframe tbody tr th {\n",
       "        vertical-align: top;\n",
       "    }\n",
       "\n",
       "    .dataframe thead th {\n",
       "        text-align: right;\n",
       "    }\n",
       "</style>\n",
       "<table border=\"1\" class=\"dataframe\">\n",
       "  <thead>\n",
       "    <tr style=\"text-align: right;\">\n",
       "      <th></th>\n",
       "      <th>0</th>\n",
       "      <th>1</th>\n",
       "      <th>2</th>\n",
       "      <th>3</th>\n",
       "      <th>4</th>\n",
       "      <th>5</th>\n",
       "      <th>6</th>\n",
       "      <th>7</th>\n",
       "      <th>8</th>\n",
       "      <th>9</th>\n",
       "      <th>...</th>\n",
       "      <th>220</th>\n",
       "      <th>221</th>\n",
       "      <th>222</th>\n",
       "      <th>223</th>\n",
       "      <th>224</th>\n",
       "      <th>225</th>\n",
       "      <th>226</th>\n",
       "      <th>227</th>\n",
       "      <th>228</th>\n",
       "      <th>229</th>\n",
       "    </tr>\n",
       "  </thead>\n",
       "  <tbody>\n",
       "    <tr>\n",
       "      <th>133</th>\n",
       "      <td>0.263249</td>\n",
       "      <td>0.270448</td>\n",
       "      <td>0.262565</td>\n",
       "      <td>0.257707</td>\n",
       "      <td>0.264399</td>\n",
       "      <td>0.271928</td>\n",
       "      <td>0.269221</td>\n",
       "      <td>0.278453</td>\n",
       "      <td>0.277440</td>\n",
       "      <td>0.273974</td>\n",
       "      <td>...</td>\n",
       "      <td>0.170869</td>\n",
       "      <td>0.171576</td>\n",
       "      <td>0.170559</td>\n",
       "      <td>0.170762</td>\n",
       "      <td>0.169384</td>\n",
       "      <td>0.172206</td>\n",
       "      <td>0.172747</td>\n",
       "      <td>0.174199</td>\n",
       "      <td>0.175075</td>\n",
       "      <td>0.177153</td>\n",
       "    </tr>\n",
       "    <tr>\n",
       "      <th>134</th>\n",
       "      <td>0.277591</td>\n",
       "      <td>0.283456</td>\n",
       "      <td>0.270526</td>\n",
       "      <td>0.270420</td>\n",
       "      <td>0.275419</td>\n",
       "      <td>0.278649</td>\n",
       "      <td>0.281161</td>\n",
       "      <td>0.284249</td>\n",
       "      <td>0.281135</td>\n",
       "      <td>0.285175</td>\n",
       "      <td>...</td>\n",
       "      <td>0.181295</td>\n",
       "      <td>0.177919</td>\n",
       "      <td>0.173447</td>\n",
       "      <td>0.173539</td>\n",
       "      <td>0.175502</td>\n",
       "      <td>0.173057</td>\n",
       "      <td>0.175773</td>\n",
       "      <td>0.177080</td>\n",
       "      <td>0.178098</td>\n",
       "      <td>0.179642</td>\n",
       "    </tr>\n",
       "    <tr>\n",
       "      <th>135</th>\n",
       "      <td>0.270668</td>\n",
       "      <td>0.287789</td>\n",
       "      <td>0.274420</td>\n",
       "      <td>0.278691</td>\n",
       "      <td>0.281376</td>\n",
       "      <td>0.284379</td>\n",
       "      <td>0.285085</td>\n",
       "      <td>0.285530</td>\n",
       "      <td>0.288157</td>\n",
       "      <td>0.292522</td>\n",
       "      <td>...</td>\n",
       "      <td>0.167765</td>\n",
       "      <td>0.165032</td>\n",
       "      <td>0.161600</td>\n",
       "      <td>0.166806</td>\n",
       "      <td>0.166618</td>\n",
       "      <td>0.163038</td>\n",
       "      <td>0.163193</td>\n",
       "      <td>0.169989</td>\n",
       "      <td>0.171432</td>\n",
       "      <td>0.175947</td>\n",
       "    </tr>\n",
       "    <tr>\n",
       "      <th>136</th>\n",
       "      <td>0.303461</td>\n",
       "      <td>0.302452</td>\n",
       "      <td>0.307957</td>\n",
       "      <td>0.301004</td>\n",
       "      <td>0.303913</td>\n",
       "      <td>0.313479</td>\n",
       "      <td>0.314566</td>\n",
       "      <td>0.314489</td>\n",
       "      <td>0.320330</td>\n",
       "      <td>0.320897</td>\n",
       "      <td>...</td>\n",
       "      <td>0.199920</td>\n",
       "      <td>0.193203</td>\n",
       "      <td>0.192390</td>\n",
       "      <td>0.189159</td>\n",
       "      <td>0.189692</td>\n",
       "      <td>0.190596</td>\n",
       "      <td>0.193009</td>\n",
       "      <td>0.196159</td>\n",
       "      <td>0.193602</td>\n",
       "      <td>0.202644</td>\n",
       "    </tr>\n",
       "    <tr>\n",
       "      <th>137</th>\n",
       "      <td>0.301186</td>\n",
       "      <td>0.305496</td>\n",
       "      <td>0.307234</td>\n",
       "      <td>0.311763</td>\n",
       "      <td>0.309905</td>\n",
       "      <td>0.324197</td>\n",
       "      <td>0.318779</td>\n",
       "      <td>0.321143</td>\n",
       "      <td>0.326530</td>\n",
       "      <td>0.326577</td>\n",
       "      <td>...</td>\n",
       "      <td>0.199018</td>\n",
       "      <td>0.198564</td>\n",
       "      <td>0.197168</td>\n",
       "      <td>0.194648</td>\n",
       "      <td>0.193093</td>\n",
       "      <td>0.199432</td>\n",
       "      <td>0.198565</td>\n",
       "      <td>0.194222</td>\n",
       "      <td>0.204245</td>\n",
       "      <td>0.199952</td>\n",
       "    </tr>\n",
       "  </tbody>\n",
       "</table>\n",
       "<p>5 rows × 230 columns</p>\n",
       "</div>"
      ],
      "text/plain": [
       "            0         1         2         3         4         5         6  \\\n",
       "133  0.263249  0.270448  0.262565  0.257707  0.264399  0.271928  0.269221   \n",
       "134  0.277591  0.283456  0.270526  0.270420  0.275419  0.278649  0.281161   \n",
       "135  0.270668  0.287789  0.274420  0.278691  0.281376  0.284379  0.285085   \n",
       "136  0.303461  0.302452  0.307957  0.301004  0.303913  0.313479  0.314566   \n",
       "137  0.301186  0.305496  0.307234  0.311763  0.309905  0.324197  0.318779   \n",
       "\n",
       "            7         8         9  ...       220       221       222  \\\n",
       "133  0.278453  0.277440  0.273974  ...  0.170869  0.171576  0.170559   \n",
       "134  0.284249  0.281135  0.285175  ...  0.181295  0.177919  0.173447   \n",
       "135  0.285530  0.288157  0.292522  ...  0.167765  0.165032  0.161600   \n",
       "136  0.314489  0.320330  0.320897  ...  0.199920  0.193203  0.192390   \n",
       "137  0.321143  0.326530  0.326577  ...  0.199018  0.198564  0.197168   \n",
       "\n",
       "          223       224       225       226       227       228       229  \n",
       "133  0.170762  0.169384  0.172206  0.172747  0.174199  0.175075  0.177153  \n",
       "134  0.173539  0.175502  0.173057  0.175773  0.177080  0.178098  0.179642  \n",
       "135  0.166806  0.166618  0.163038  0.163193  0.169989  0.171432  0.175947  \n",
       "136  0.189159  0.189692  0.190596  0.193009  0.196159  0.193602  0.202644  \n",
       "137  0.194648  0.193093  0.199432  0.198565  0.194222  0.204245  0.199952  \n",
       "\n",
       "[5 rows x 230 columns]"
      ]
     },
     "execution_count": 13,
     "metadata": {},
     "output_type": "execute_result"
    }
   ],
   "source": [
    "df.head()"
   ]
  },
  {
   "cell_type": "code",
   "execution_count": 14,
   "id": "9fc01ac2",
   "metadata": {},
   "outputs": [
    {
     "data": {
      "text/plain": [
       "43829"
      ]
     },
     "execution_count": 14,
     "metadata": {},
     "output_type": "execute_result"
    }
   ],
   "source": [
    "len(df)"
   ]
  },
  {
   "cell_type": "code",
   "execution_count": 15,
   "id": "c2205cc4",
   "metadata": {},
   "outputs": [],
   "source": [
    "cmp = sch.linkage(df, method  = \"complete\")"
   ]
  },
  {
   "cell_type": "code",
   "execution_count": 16,
   "id": "de801d2f",
   "metadata": {},
   "outputs": [
    {
     "data": {
      "image/png": "[encoded data removed]",
      "text/plain": [
       "<Figure size 1080x576 with 1 Axes>"
      ]
     },
     "metadata": {
      "needs_background": "light"
     },
     "output_type": "display_data"
    }
   ],
   "source": [
    "plt.figure(figsize=(15,8))\n",
    "dend = sch.dendrogram(cmp)\n",
    "plt.title('Ward')\n",
    "plt.xlabel('Samples')\n",
    "plt.ylabel('Euclidean distances')\n",
    "plt.show()"
   ]
  },
  {
   "cell_type": "markdown",
   "id": "3713be29",
   "metadata": {},
   "source": [
    "## Determine Cluster"
   ]
  },
  {
   "cell_type": "code",
   "execution_count": 18,
   "id": "79f29b06",
   "metadata": {},
   "outputs": [],
   "source": [
    "# calculate pairwise distances between observations in n-dimensional space.  \n",
    "y = pdist(df)"
   ]
  },
  {
   "cell_type": "markdown",
   "id": "ff08712d",
   "metadata": {},
   "source": [
    "### Using Ward method"
   ]
  },
  {
   "cell_type": "code",
   "execution_count": 19,
   "id": "c13789f3",
   "metadata": {},
   "outputs": [
    {
     "name": "stdout",
     "output_type": "stream",
     "text": [
      "[4 4 4 ... 2 2 1]\n"
     ]
    }
   ],
   "source": [
    "# perform Ward's linkage on a condensed distance matrix.\n",
    "Z = ward(y)\n",
    "\n",
    "# form cluster label from the hierarchical clustering defined by the given linkage matrix\n",
    "wardlabel = fcluster(Z, 100, criterion='distance')\n",
    "print(wardlabel)\n"
   ]
  },
  {
   "cell_type": "markdown",
   "id": "e74e5785",
   "metadata": {},
   "source": [
    "### Using Complete-Link method"
   ]
  },
  {
   "cell_type": "code",
   "execution_count": 20,
   "id": "8f9cd5af",
   "metadata": {},
   "outputs": [
    {
     "name": "stdout",
     "output_type": "stream",
     "text": [
      "[3 3 3 ... 1 1 3]\n"
     ]
    }
   ],
   "source": [
    "# perform complete linkage on a condensed distance matrix.\n",
    "Z = complete(y)\n",
    "\n",
    "# form cluster label from the hierarchical clustering defined by the given linkage matrix\n",
    "completelabel = fcluster(Z, 4, criterion='distance')\n",
    "print(completelabel)"
   ]
  },
  {
   "cell_type": "code",
   "execution_count": null,
   "id": "081e6d2a",
   "metadata": {},
   "outputs": [],
   "source": []
  }
 ],
 "metadata": {
  "kernelspec": {
   "display_name": "Python 3",
   "language": "python",
   "name": "python3"
  },
  "language_info": {
   "codemirror_mode": {
    "name": "ipython",
    "version": 3
   },
   "file_extension": ".py",
   "mimetype": "text/x-python",
   "name": "python",
   "nbconvert_exporter": "python",
   "pygments_lexer": "ipython3",
   "version": "3.8.8"
  }
 },
 "nbformat": 4,
 "nbformat_minor": 5
}
