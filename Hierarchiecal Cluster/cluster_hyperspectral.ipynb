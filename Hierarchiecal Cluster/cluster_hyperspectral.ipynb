{
 "cells": [
  {
   "cell_type": "code",
   "execution_count": 2,
   "metadata": {},
   "outputs": [],
   "source": [
    "import pandas as pd\n",
    "import matplotlib.pyplot as plt\n",
    "import numpy as np"
   ]
  },
  {
   "cell_type": "code",
   "execution_count": 31,
   "metadata": {},
   "outputs": [],
   "source": [
    "df = pd.read_csv('data.csv')"
   ]
  },
  {
   "cell_type": "code",
   "execution_count": 32,
   "metadata": {},
   "outputs": [
    {
     "data": {
      "text/html": [
       "<div>\n",
       "<style scoped>\n",
       "    .dataframe tbody tr th:only-of-type {\n",
       "        vertical-align: middle;\n",
       "    }\n",
       "\n",
       "    .dataframe tbody tr th {\n",
       "        vertical-align: top;\n",
       "    }\n",
       "\n",
       "    .dataframe thead th {\n",
       "        text-align: right;\n",
       "    }\n",
       "</style>\n",
       "<table border=\"1\" class=\"dataframe\">\n",
       "  <thead>\n",
       "    <tr style=\"text-align: right;\">\n",
       "      <th></th>\n",
       "      <th>Unnamed: 0</th>\n",
       "      <th>0</th>\n",
       "      <th>1</th>\n",
       "      <th>2</th>\n",
       "      <th>3</th>\n",
       "      <th>4</th>\n",
       "      <th>5</th>\n",
       "      <th>6</th>\n",
       "      <th>7</th>\n",
       "      <th>8</th>\n",
       "      <th>...</th>\n",
       "      <th>221</th>\n",
       "      <th>222</th>\n",
       "      <th>223</th>\n",
       "      <th>224</th>\n",
       "      <th>225</th>\n",
       "      <th>226</th>\n",
       "      <th>227</th>\n",
       "      <th>228</th>\n",
       "      <th>229</th>\n",
       "      <th>minerals</th>\n",
       "    </tr>\n",
       "  </thead>\n",
       "  <tbody>\n",
       "    <tr>\n",
       "      <th>0</th>\n",
       "      <td>0</td>\n",
       "      <td>0.0</td>\n",
       "      <td>0.0</td>\n",
       "      <td>0.0</td>\n",
       "      <td>0.0</td>\n",
       "      <td>0.0</td>\n",
       "      <td>0.0</td>\n",
       "      <td>0.0</td>\n",
       "      <td>0.0</td>\n",
       "      <td>0.0</td>\n",
       "      <td>...</td>\n",
       "      <td>0.0</td>\n",
       "      <td>0.0</td>\n",
       "      <td>0.0</td>\n",
       "      <td>0.0</td>\n",
       "      <td>0.0</td>\n",
       "      <td>0.0</td>\n",
       "      <td>0.0</td>\n",
       "      <td>0.0</td>\n",
       "      <td>0.0</td>\n",
       "      <td>1</td>\n",
       "    </tr>\n",
       "    <tr>\n",
       "      <th>1</th>\n",
       "      <td>1</td>\n",
       "      <td>0.0</td>\n",
       "      <td>0.0</td>\n",
       "      <td>0.0</td>\n",
       "      <td>0.0</td>\n",
       "      <td>0.0</td>\n",
       "      <td>0.0</td>\n",
       "      <td>0.0</td>\n",
       "      <td>0.0</td>\n",
       "      <td>0.0</td>\n",
       "      <td>...</td>\n",
       "      <td>0.0</td>\n",
       "      <td>0.0</td>\n",
       "      <td>0.0</td>\n",
       "      <td>0.0</td>\n",
       "      <td>0.0</td>\n",
       "      <td>0.0</td>\n",
       "      <td>0.0</td>\n",
       "      <td>0.0</td>\n",
       "      <td>0.0</td>\n",
       "      <td>1</td>\n",
       "    </tr>\n",
       "    <tr>\n",
       "      <th>2</th>\n",
       "      <td>2</td>\n",
       "      <td>0.0</td>\n",
       "      <td>0.0</td>\n",
       "      <td>0.0</td>\n",
       "      <td>0.0</td>\n",
       "      <td>0.0</td>\n",
       "      <td>0.0</td>\n",
       "      <td>0.0</td>\n",
       "      <td>0.0</td>\n",
       "      <td>0.0</td>\n",
       "      <td>...</td>\n",
       "      <td>0.0</td>\n",
       "      <td>0.0</td>\n",
       "      <td>0.0</td>\n",
       "      <td>0.0</td>\n",
       "      <td>0.0</td>\n",
       "      <td>0.0</td>\n",
       "      <td>0.0</td>\n",
       "      <td>0.0</td>\n",
       "      <td>0.0</td>\n",
       "      <td>1</td>\n",
       "    </tr>\n",
       "    <tr>\n",
       "      <th>3</th>\n",
       "      <td>3</td>\n",
       "      <td>0.0</td>\n",
       "      <td>0.0</td>\n",
       "      <td>0.0</td>\n",
       "      <td>0.0</td>\n",
       "      <td>0.0</td>\n",
       "      <td>0.0</td>\n",
       "      <td>0.0</td>\n",
       "      <td>0.0</td>\n",
       "      <td>0.0</td>\n",
       "      <td>...</td>\n",
       "      <td>0.0</td>\n",
       "      <td>0.0</td>\n",
       "      <td>0.0</td>\n",
       "      <td>0.0</td>\n",
       "      <td>0.0</td>\n",
       "      <td>0.0</td>\n",
       "      <td>0.0</td>\n",
       "      <td>0.0</td>\n",
       "      <td>0.0</td>\n",
       "      <td>1</td>\n",
       "    </tr>\n",
       "    <tr>\n",
       "      <th>4</th>\n",
       "      <td>4</td>\n",
       "      <td>0.0</td>\n",
       "      <td>0.0</td>\n",
       "      <td>0.0</td>\n",
       "      <td>0.0</td>\n",
       "      <td>0.0</td>\n",
       "      <td>0.0</td>\n",
       "      <td>0.0</td>\n",
       "      <td>0.0</td>\n",
       "      <td>0.0</td>\n",
       "      <td>...</td>\n",
       "      <td>0.0</td>\n",
       "      <td>0.0</td>\n",
       "      <td>0.0</td>\n",
       "      <td>0.0</td>\n",
       "      <td>0.0</td>\n",
       "      <td>0.0</td>\n",
       "      <td>0.0</td>\n",
       "      <td>0.0</td>\n",
       "      <td>0.0</td>\n",
       "      <td>1</td>\n",
       "    </tr>\n",
       "  </tbody>\n",
       "</table>\n",
       "<p>5 rows × 232 columns</p>\n",
       "</div>"
      ],
      "text/plain": [
       "   Unnamed: 0    0    1    2    3    4    5    6    7    8  ...  221  222  \\\n",
       "0           0  0.0  0.0  0.0  0.0  0.0  0.0  0.0  0.0  0.0  ...  0.0  0.0   \n",
       "1           1  0.0  0.0  0.0  0.0  0.0  0.0  0.0  0.0  0.0  ...  0.0  0.0   \n",
       "2           2  0.0  0.0  0.0  0.0  0.0  0.0  0.0  0.0  0.0  ...  0.0  0.0   \n",
       "3           3  0.0  0.0  0.0  0.0  0.0  0.0  0.0  0.0  0.0  ...  0.0  0.0   \n",
       "4           4  0.0  0.0  0.0  0.0  0.0  0.0  0.0  0.0  0.0  ...  0.0  0.0   \n",
       "\n",
       "   223  224  225  226  227  228  229  minerals  \n",
       "0  0.0  0.0  0.0  0.0  0.0  0.0  0.0         1  \n",
       "1  0.0  0.0  0.0  0.0  0.0  0.0  0.0         1  \n",
       "2  0.0  0.0  0.0  0.0  0.0  0.0  0.0         1  \n",
       "3  0.0  0.0  0.0  0.0  0.0  0.0  0.0         1  \n",
       "4  0.0  0.0  0.0  0.0  0.0  0.0  0.0         1  \n",
       "\n",
       "[5 rows x 232 columns]"
      ]
     },
     "execution_count": 32,
     "metadata": {},
     "output_type": "execute_result"
    }
   ],
   "source": [
    "df.head()"
   ]
  },
  {
   "cell_type": "code",
   "execution_count": 33,
   "metadata": {},
   "outputs": [
    {
     "data": {
      "text/plain": [
       "array([1, 2, 4, 0, 3], dtype=int64)"
      ]
     },
     "execution_count": 33,
     "metadata": {},
     "output_type": "execute_result"
    }
   ],
   "source": [
    "df.minerals.unique()"
   ]
  },
  {
   "cell_type": "code",
   "execution_count": 5,
   "metadata": {},
   "outputs": [
    {
     "data": {
      "text/plain": [
       "Index(['Unnamed: 0', '0', '1', '2', '3', '4', '5', '6', '7', '8',\n",
       "       ...\n",
       "       '221', '222', '223', '224', '225', '226', '227', '228', '229',\n",
       "       'minerals'],\n",
       "      dtype='object', length=232)"
      ]
     },
     "execution_count": 5,
     "metadata": {},
     "output_type": "execute_result"
    }
   ],
   "source": [
    "df.columns\n"
   ]
  },
  {
   "cell_type": "code",
   "execution_count": 34,
   "metadata": {},
   "outputs": [
    {
     "name": "stdout",
     "output_type": "stream",
     "text": [
      "         1    2    3    4    5    6    7    8    9   10  ...  220  221  222  \\\n",
      "0      0.0  0.0  0.0  0.0  0.0  0.0  0.0  0.0  0.0  0.0  ...  0.0  0.0  0.0   \n",
      "1      0.0  0.0  0.0  0.0  0.0  0.0  0.0  0.0  0.0  0.0  ...  0.0  0.0  0.0   \n",
      "2      0.0  0.0  0.0  0.0  0.0  0.0  0.0  0.0  0.0  0.0  ...  0.0  0.0  0.0   \n",
      "3      0.0  0.0  0.0  0.0  0.0  0.0  0.0  0.0  0.0  0.0  ...  0.0  0.0  0.0   \n",
      "4      0.0  0.0  0.0  0.0  0.0  0.0  0.0  0.0  0.0  0.0  ...  0.0  0.0  0.0   \n",
      "...    ...  ...  ...  ...  ...  ...  ...  ...  ...  ...  ...  ...  ...  ...   \n",
      "56995  0.0  0.0  0.0  0.0  0.0  0.0  0.0  0.0  0.0  0.0  ...  0.0  0.0  0.0   \n",
      "56996  0.0  0.0  0.0  0.0  0.0  0.0  0.0  0.0  0.0  0.0  ...  0.0  0.0  0.0   \n",
      "56997  0.0  0.0  0.0  0.0  0.0  0.0  0.0  0.0  0.0  0.0  ...  0.0  0.0  0.0   \n",
      "56998  0.0  0.0  0.0  0.0  0.0  0.0  0.0  0.0  0.0  0.0  ...  0.0  0.0  0.0   \n",
      "56999  0.0  0.0  0.0  0.0  0.0  0.0  0.0  0.0  0.0  0.0  ...  0.0  0.0  0.0   \n",
      "\n",
      "       223  224  225  226  227  228  229  \n",
      "0      0.0  0.0  0.0  0.0  0.0  0.0  0.0  \n",
      "1      0.0  0.0  0.0  0.0  0.0  0.0  0.0  \n",
      "2      0.0  0.0  0.0  0.0  0.0  0.0  0.0  \n",
      "3      0.0  0.0  0.0  0.0  0.0  0.0  0.0  \n",
      "4      0.0  0.0  0.0  0.0  0.0  0.0  0.0  \n",
      "...    ...  ...  ...  ...  ...  ...  ...  \n",
      "56995  0.0  0.0  0.0  0.0  0.0  0.0  0.0  \n",
      "56996  0.0  0.0  0.0  0.0  0.0  0.0  0.0  \n",
      "56997  0.0  0.0  0.0  0.0  0.0  0.0  0.0  \n",
      "56998  0.0  0.0  0.0  0.0  0.0  0.0  0.0  \n",
      "56999  0.0  0.0  0.0  0.0  0.0  0.0  0.0  \n",
      "\n",
      "[57000 rows x 229 columns]\n"
     ]
    }
   ],
   "source": [
    "df.drop(['Unnamed: 0','0','minerals'],axis=1, inplace=True)\n",
    "print(df)"
   ]
  },
  {
   "cell_type": "code",
   "execution_count": 35,
   "metadata": {},
   "outputs": [],
   "source": [
    "df = df[(df.T != 0).any()]"
   ]
  },
  {
   "cell_type": "code",
   "execution_count": 36,
   "metadata": {},
   "outputs": [],
   "source": [
    "# df = df.replace(0,np.nan)\n",
    "# df.head()"
   ]
  },
  {
   "cell_type": "code",
   "execution_count": 37,
   "metadata": {},
   "outputs": [],
   "source": [
    "import scipy.cluster.hierarchy as sch"
   ]
  },
  {
   "cell_type": "code",
   "execution_count": 38,
   "metadata": {},
   "outputs": [],
   "source": [
    "from scipy.cluster.hierarchy import ward, median, centroid, weighted, average, complete, single, fcluster\n",
    "from scipy.spatial.distance import pdist"
   ]
  },
  {
   "cell_type": "code",
   "execution_count": 39,
   "metadata": {},
   "outputs": [],
   "source": [
    "wrd = sch.linkage(df, method  = \"ward\")"
   ]
  },
  {
   "cell_type": "code",
   "execution_count": 40,
   "metadata": {},
   "outputs": [
    {
     "data": {
      "image/png": "[encoded data removed]",
      "text/plain": [
       "<Figure size 1080x576 with 1 Axes>"
      ]
     },
     "metadata": {
      "needs_background": "light"
     },
     "output_type": "display_data"
    }
   ],
   "source": [
    "plt.figure(figsize=(15,8))\n",
    "dend = sch.dendrogram(wrd)\n",
    "plt.title('Ward')\n",
    "plt.xlabel('Samples')\n",
    "plt.ylabel('Euclidean distances')\n",
    "plt.show()"
   ]
  },
  {
   "cell_type": "code",
   "execution_count": 41,
   "metadata": {},
   "outputs": [
    {
     "data": {
      "text/html": [
       "<div>\n",
       "<style scoped>\n",
       "    .dataframe tbody tr th:only-of-type {\n",
       "        vertical-align: middle;\n",
       "    }\n",
       "\n",
       "    .dataframe tbody tr th {\n",
       "        vertical-align: top;\n",
       "    }\n",
       "\n",
       "    .dataframe thead th {\n",
       "        text-align: right;\n",
       "    }\n",
       "</style>\n",
       "<table border=\"1\" class=\"dataframe\">\n",
       "  <thead>\n",
       "    <tr style=\"text-align: right;\">\n",
       "      <th></th>\n",
       "      <th>1</th>\n",
       "      <th>2</th>\n",
       "      <th>3</th>\n",
       "      <th>4</th>\n",
       "      <th>5</th>\n",
       "      <th>6</th>\n",
       "      <th>7</th>\n",
       "      <th>8</th>\n",
       "      <th>9</th>\n",
       "      <th>10</th>\n",
       "      <th>...</th>\n",
       "      <th>220</th>\n",
       "      <th>221</th>\n",
       "      <th>222</th>\n",
       "      <th>223</th>\n",
       "      <th>224</th>\n",
       "      <th>225</th>\n",
       "      <th>226</th>\n",
       "      <th>227</th>\n",
       "      <th>228</th>\n",
       "      <th>229</th>\n",
       "    </tr>\n",
       "  </thead>\n",
       "  <tbody>\n",
       "    <tr>\n",
       "      <th>133</th>\n",
       "      <td>0.270448</td>\n",
       "      <td>0.262565</td>\n",
       "      <td>0.257707</td>\n",
       "      <td>0.264399</td>\n",
       "      <td>0.271928</td>\n",
       "      <td>0.269221</td>\n",
       "      <td>0.278453</td>\n",
       "      <td>0.277440</td>\n",
       "      <td>0.273974</td>\n",
       "      <td>0.278992</td>\n",
       "      <td>...</td>\n",
       "      <td>0.170869</td>\n",
       "      <td>0.171576</td>\n",
       "      <td>0.170559</td>\n",
       "      <td>0.170762</td>\n",
       "      <td>0.169384</td>\n",
       "      <td>0.172206</td>\n",
       "      <td>0.172747</td>\n",
       "      <td>0.174199</td>\n",
       "      <td>0.175075</td>\n",
       "      <td>0.177153</td>\n",
       "    </tr>\n",
       "    <tr>\n",
       "      <th>134</th>\n",
       "      <td>0.283456</td>\n",
       "      <td>0.270526</td>\n",
       "      <td>0.270420</td>\n",
       "      <td>0.275419</td>\n",
       "      <td>0.278649</td>\n",
       "      <td>0.281161</td>\n",
       "      <td>0.284249</td>\n",
       "      <td>0.281135</td>\n",
       "      <td>0.285175</td>\n",
       "      <td>0.288197</td>\n",
       "      <td>...</td>\n",
       "      <td>0.181295</td>\n",
       "      <td>0.177919</td>\n",
       "      <td>0.173447</td>\n",
       "      <td>0.173539</td>\n",
       "      <td>0.175502</td>\n",
       "      <td>0.173057</td>\n",
       "      <td>0.175773</td>\n",
       "      <td>0.177080</td>\n",
       "      <td>0.178098</td>\n",
       "      <td>0.179642</td>\n",
       "    </tr>\n",
       "    <tr>\n",
       "      <th>135</th>\n",
       "      <td>0.287789</td>\n",
       "      <td>0.274420</td>\n",
       "      <td>0.278691</td>\n",
       "      <td>0.281376</td>\n",
       "      <td>0.284379</td>\n",
       "      <td>0.285085</td>\n",
       "      <td>0.285530</td>\n",
       "      <td>0.288157</td>\n",
       "      <td>0.292522</td>\n",
       "      <td>0.290701</td>\n",
       "      <td>...</td>\n",
       "      <td>0.167765</td>\n",
       "      <td>0.165032</td>\n",
       "      <td>0.161600</td>\n",
       "      <td>0.166806</td>\n",
       "      <td>0.166618</td>\n",
       "      <td>0.163038</td>\n",
       "      <td>0.163193</td>\n",
       "      <td>0.169989</td>\n",
       "      <td>0.171432</td>\n",
       "      <td>0.175947</td>\n",
       "    </tr>\n",
       "    <tr>\n",
       "      <th>136</th>\n",
       "      <td>0.302452</td>\n",
       "      <td>0.307957</td>\n",
       "      <td>0.301004</td>\n",
       "      <td>0.303913</td>\n",
       "      <td>0.313479</td>\n",
       "      <td>0.314566</td>\n",
       "      <td>0.314489</td>\n",
       "      <td>0.320330</td>\n",
       "      <td>0.320897</td>\n",
       "      <td>0.322594</td>\n",
       "      <td>...</td>\n",
       "      <td>0.199920</td>\n",
       "      <td>0.193203</td>\n",
       "      <td>0.192390</td>\n",
       "      <td>0.189159</td>\n",
       "      <td>0.189692</td>\n",
       "      <td>0.190596</td>\n",
       "      <td>0.193009</td>\n",
       "      <td>0.196159</td>\n",
       "      <td>0.193602</td>\n",
       "      <td>0.202644</td>\n",
       "    </tr>\n",
       "    <tr>\n",
       "      <th>137</th>\n",
       "      <td>0.305496</td>\n",
       "      <td>0.307234</td>\n",
       "      <td>0.311763</td>\n",
       "      <td>0.309905</td>\n",
       "      <td>0.324197</td>\n",
       "      <td>0.318779</td>\n",
       "      <td>0.321143</td>\n",
       "      <td>0.326530</td>\n",
       "      <td>0.326577</td>\n",
       "      <td>0.330332</td>\n",
       "      <td>...</td>\n",
       "      <td>0.199018</td>\n",
       "      <td>0.198564</td>\n",
       "      <td>0.197168</td>\n",
       "      <td>0.194648</td>\n",
       "      <td>0.193093</td>\n",
       "      <td>0.199432</td>\n",
       "      <td>0.198565</td>\n",
       "      <td>0.194222</td>\n",
       "      <td>0.204245</td>\n",
       "      <td>0.199952</td>\n",
       "    </tr>\n",
       "  </tbody>\n",
       "</table>\n",
       "<p>5 rows × 229 columns</p>\n",
       "</div>"
      ],
      "text/plain": [
       "            1         2         3         4         5         6         7  \\\n",
       "133  0.270448  0.262565  0.257707  0.264399  0.271928  0.269221  0.278453   \n",
       "134  0.283456  0.270526  0.270420  0.275419  0.278649  0.281161  0.284249   \n",
       "135  0.287789  0.274420  0.278691  0.281376  0.284379  0.285085  0.285530   \n",
       "136  0.302452  0.307957  0.301004  0.303913  0.313479  0.314566  0.314489   \n",
       "137  0.305496  0.307234  0.311763  0.309905  0.324197  0.318779  0.321143   \n",
       "\n",
       "            8         9        10  ...       220       221       222  \\\n",
       "133  0.277440  0.273974  0.278992  ...  0.170869  0.171576  0.170559   \n",
       "134  0.281135  0.285175  0.288197  ...  0.181295  0.177919  0.173447   \n",
       "135  0.288157  0.292522  0.290701  ...  0.167765  0.165032  0.161600   \n",
       "136  0.320330  0.320897  0.322594  ...  0.199920  0.193203  0.192390   \n",
       "137  0.326530  0.326577  0.330332  ...  0.199018  0.198564  0.197168   \n",
       "\n",
       "          223       224       225       226       227       228       229  \n",
       "133  0.170762  0.169384  0.172206  0.172747  0.174199  0.175075  0.177153  \n",
       "134  0.173539  0.175502  0.173057  0.175773  0.177080  0.178098  0.179642  \n",
       "135  0.166806  0.166618  0.163038  0.163193  0.169989  0.171432  0.175947  \n",
       "136  0.189159  0.189692  0.190596  0.193009  0.196159  0.193602  0.202644  \n",
       "137  0.194648  0.193093  0.199432  0.198565  0.194222  0.204245  0.199952  \n",
       "\n",
       "[5 rows x 229 columns]"
      ]
     },
     "execution_count": 41,
     "metadata": {},
     "output_type": "execute_result"
    }
   ],
   "source": [
    "df.head()"
   ]
  },
  {
   "cell_type": "code",
   "execution_count": 42,
   "metadata": {},
   "outputs": [
    {
     "data": {
      "text/plain": [
       "43829"
      ]
     },
     "execution_count": 42,
     "metadata": {},
     "output_type": "execute_result"
    }
   ],
   "source": [
    "len(df)"
   ]
  },
  {
   "cell_type": "code",
   "execution_count": 43,
   "metadata": {},
   "outputs": [],
   "source": [
    "cmp = sch.linkage(df, method  = \"complete\")"
   ]
  },
  {
   "cell_type": "code",
   "execution_count": 44,
   "metadata": {},
   "outputs": [
    {
     "data": {
      "image/png": "[encoded data removed]",
      "text/plain": [
       "<Figure size 1080x576 with 1 Axes>"
      ]
     },
     "metadata": {
      "needs_background": "light"
     },
     "output_type": "display_data"
    }
   ],
   "source": [
    "plt.figure(figsize=(15,8))\n",
    "dend = sch.dendrogram(cmp)\n",
    "plt.title('Ward')\n",
    "plt.xlabel('Samples')\n",
    "plt.ylabel('Euclidean distances')\n",
    "plt.show()"
   ]
  },
  {
   "cell_type": "markdown",
   "metadata": {},
   "source": [
    "## Determine Cluster"
   ]
  },
  {
   "cell_type": "code",
   "execution_count": 46,
   "metadata": {},
   "outputs": [],
   "source": [
    "# calculate pairwise distances between observations in n-dimensional space.  \n",
    "y = pdist(df)"
   ]
  },
  {
   "cell_type": "markdown",
   "metadata": {},
   "source": [
    "### Using Complete-Link method"
   ]
  },
  {
   "cell_type": "code",
   "execution_count": 47,
   "metadata": {},
   "outputs": [
    {
     "name": "stdout",
     "output_type": "stream",
     "text": [
      "[3 3 3 ... 3 3 3]\n"
     ]
    }
   ],
   "source": [
    "# perform complete linkage on a condensed distance matrix.\n",
    "Z = complete(y)\n",
    "\n",
    "# form cluster label from the hierarchical clustering defined by the given linkage matrix\n",
    "completelabel = fcluster(Z, 4, criterion='distance')\n",
    "print(completelabel)"
   ]
  },
  {
   "cell_type": "code",
   "execution_count": 48,
   "metadata": {},
   "outputs": [],
   "source": [
    "df['completelinkMin']=completelabel.tolist()"
   ]
  },
  {
   "cell_type": "code",
   "execution_count": 49,
   "metadata": {},
   "outputs": [
    {
     "name": "stdout",
     "output_type": "stream",
     "text": [
      "133      3\n",
      "134      3\n",
      "135      3\n",
      "136      3\n",
      "137      3\n",
      "        ..\n",
      "56648    3\n",
      "56649    3\n",
      "56650    3\n",
      "56651    3\n",
      "56847    3\n",
      "Name: completelinkMin, Length: 43829, dtype: int64\n"
     ]
    }
   ],
   "source": [
    "df1 = pd.read_csv('data.csv')\n",
    "df2=df['completelinkMin']\n",
    "print (df2)"
   ]
  },
  {
   "cell_type": "code",
   "execution_count": 50,
   "metadata": {},
   "outputs": [
    {
     "name": "stdout",
     "output_type": "stream",
     "text": [
      "       Unnamed: 0    0    1    2    3    4    5    6    7    8  ...  222  223  \\\n",
      "0               0  0.0  0.0  0.0  0.0  0.0  0.0  0.0  0.0  0.0  ...  0.0  0.0   \n",
      "1               1  0.0  0.0  0.0  0.0  0.0  0.0  0.0  0.0  0.0  ...  0.0  0.0   \n",
      "2               2  0.0  0.0  0.0  0.0  0.0  0.0  0.0  0.0  0.0  ...  0.0  0.0   \n",
      "3               3  0.0  0.0  0.0  0.0  0.0  0.0  0.0  0.0  0.0  ...  0.0  0.0   \n",
      "4               4  0.0  0.0  0.0  0.0  0.0  0.0  0.0  0.0  0.0  ...  0.0  0.0   \n",
      "...           ...  ...  ...  ...  ...  ...  ...  ...  ...  ...  ...  ...  ...   \n",
      "56995       56995  0.0  0.0  0.0  0.0  0.0  0.0  0.0  0.0  0.0  ...  0.0  0.0   \n",
      "56996       56996  0.0  0.0  0.0  0.0  0.0  0.0  0.0  0.0  0.0  ...  0.0  0.0   \n",
      "56997       56997  0.0  0.0  0.0  0.0  0.0  0.0  0.0  0.0  0.0  ...  0.0  0.0   \n",
      "56998       56998  0.0  0.0  0.0  0.0  0.0  0.0  0.0  0.0  0.0  ...  0.0  0.0   \n",
      "56999       56999  0.0  0.0  0.0  0.0  0.0  0.0  0.0  0.0  0.0  ...  0.0  0.0   \n",
      "\n",
      "       224  225  226  227  228  229  minerals  completelinkMin  \n",
      "0      0.0  0.0  0.0  0.0  0.0  0.0         1              NaN  \n",
      "1      0.0  0.0  0.0  0.0  0.0  0.0         1              NaN  \n",
      "2      0.0  0.0  0.0  0.0  0.0  0.0         1              NaN  \n",
      "3      0.0  0.0  0.0  0.0  0.0  0.0         1              NaN  \n",
      "4      0.0  0.0  0.0  0.0  0.0  0.0         1              NaN  \n",
      "...    ...  ...  ...  ...  ...  ...       ...              ...  \n",
      "56995  0.0  0.0  0.0  0.0  0.0  0.0         1              NaN  \n",
      "56996  0.0  0.0  0.0  0.0  0.0  0.0         1              NaN  \n",
      "56997  0.0  0.0  0.0  0.0  0.0  0.0         1              NaN  \n",
      "56998  0.0  0.0  0.0  0.0  0.0  0.0         1              NaN  \n",
      "56999  0.0  0.0  0.0  0.0  0.0  0.0         1              NaN  \n",
      "\n",
      "[57000 rows x 233 columns]\n"
     ]
    }
   ],
   "source": [
    "MMcomplete=pd.concat([df1, df2], axis=1)\n",
    "print(MMcomplete)"
   ]
  },
  {
   "cell_type": "code",
   "execution_count": 51,
   "metadata": {},
   "outputs": [
    {
     "data": {
      "text/plain": [
       "<matplotlib.colorbar.Colorbar at 0x233d1e63248>"
      ]
     },
     "execution_count": 51,
     "metadata": {},
     "output_type": "execute_result"
    },
    {
     "data": {
      "image/png": "[encoded data removed]",
      "text/plain": [
       "<Figure size 432x288 with 2 Axes>"
      ]
     },
     "metadata": {
      "needs_background": "light"
     },
     "output_type": "display_data"
    }
   ],
   "source": [
    "MMcomplete.drop(['Unnamed: 0','minerals'],axis=1, inplace=True)\n",
    "imageNpy=MMcomplete.to_numpy()\n",
    "groundTruth=imageNpy.reshape(285, 200, 231)\n",
    "gt=groundTruth[:, :, 230]\n",
    "plt.imshow(gt, cmap=plt.cm.get_cmap('viridis',4))\n",
    "plt.colorbar()"
   ]
  },
  {
   "cell_type": "code",
   "execution_count": 53,
   "metadata": {},
   "outputs": [
    {
     "name": "stdout",
     "output_type": "stream",
     "text": [
      "         0    1    2    3    4    5    6    7    8    9  ...  222  223  224  \\\n",
      "0      0.0  0.0  0.0  0.0  0.0  0.0  0.0  0.0  0.0  0.0  ...  0.0  0.0  0.0   \n",
      "1      0.0  0.0  0.0  0.0  0.0  0.0  0.0  0.0  0.0  0.0  ...  0.0  0.0  0.0   \n",
      "2      0.0  0.0  0.0  0.0  0.0  0.0  0.0  0.0  0.0  0.0  ...  0.0  0.0  0.0   \n",
      "3      0.0  0.0  0.0  0.0  0.0  0.0  0.0  0.0  0.0  0.0  ...  0.0  0.0  0.0   \n",
      "4      0.0  0.0  0.0  0.0  0.0  0.0  0.0  0.0  0.0  0.0  ...  0.0  0.0  0.0   \n",
      "...    ...  ...  ...  ...  ...  ...  ...  ...  ...  ...  ...  ...  ...  ...   \n",
      "56995  0.0  0.0  0.0  0.0  0.0  0.0  0.0  0.0  0.0  0.0  ...  0.0  0.0  0.0   \n",
      "56996  0.0  0.0  0.0  0.0  0.0  0.0  0.0  0.0  0.0  0.0  ...  0.0  0.0  0.0   \n",
      "56997  0.0  0.0  0.0  0.0  0.0  0.0  0.0  0.0  0.0  0.0  ...  0.0  0.0  0.0   \n",
      "56998  0.0  0.0  0.0  0.0  0.0  0.0  0.0  0.0  0.0  0.0  ...  0.0  0.0  0.0   \n",
      "56999  0.0  0.0  0.0  0.0  0.0  0.0  0.0  0.0  0.0  0.0  ...  0.0  0.0  0.0   \n",
      "\n",
      "       225  226  227  228  229  completelinkMin  mineralogy  \n",
      "0      0.0  0.0  0.0  0.0  0.0              NaN         NaN  \n",
      "1      0.0  0.0  0.0  0.0  0.0              NaN         NaN  \n",
      "2      0.0  0.0  0.0  0.0  0.0              NaN         NaN  \n",
      "3      0.0  0.0  0.0  0.0  0.0              NaN         NaN  \n",
      "4      0.0  0.0  0.0  0.0  0.0              NaN         NaN  \n",
      "...    ...  ...  ...  ...  ...              ...         ...  \n",
      "56995  0.0  0.0  0.0  0.0  0.0              NaN         NaN  \n",
      "56996  0.0  0.0  0.0  0.0  0.0              NaN         NaN  \n",
      "56997  0.0  0.0  0.0  0.0  0.0              NaN         NaN  \n",
      "56998  0.0  0.0  0.0  0.0  0.0              NaN         NaN  \n",
      "56999  0.0  0.0  0.0  0.0  0.0              NaN         NaN  \n",
      "\n",
      "[57000 rows x 232 columns]\n"
     ]
    }
   ],
   "source": [
    "Mineralogy= {1: \"Tourmaline\",\n",
    "            2: \"Illite\",\n",
    "            3: \"Muscovite\"}\n",
    "\n",
    "MMcomplete['mineralogy']=MMcomplete['completelinkMin'].map(Mineralogy) #assign the mineralogy into the dataframe\n",
    "print (MMcomplete)"
   ]
  },
  {
   "cell_type": "code",
   "execution_count": 122,
   "metadata": {},
   "outputs": [],
   "source": [
    "MMcomplete.to_csv('MMCompLink.csv')"
   ]
  },
  {
   "cell_type": "markdown",
   "metadata": {},
   "source": [
    "### Using Ward method"
   ]
  },
  {
   "cell_type": "code",
   "execution_count": 54,
   "metadata": {},
   "outputs": [
    {
     "name": "stdout",
     "output_type": "stream",
     "text": [
      "[3 3 3 ... 1 1 1]\n"
     ]
    }
   ],
   "source": [
    "# perform Ward's linkage on a condensed distance matrix.\n",
    "Z = ward(y)\n",
    "\n",
    "# form cluster label from the hierarchical clustering defined by the given linkage matrix\n",
    "wardlabel = fcluster(Z, 100, criterion='distance')\n",
    "print(wardlabel)\n"
   ]
  },
  {
   "cell_type": "code",
   "execution_count": 55,
   "metadata": {},
   "outputs": [
    {
     "name": "stdout",
     "output_type": "stream",
     "text": [
      "              1         2         3         4         5         6         7  \\\n",
      "133    0.270448  0.262565  0.257707  0.264399  0.271928  0.269221  0.278453   \n",
      "134    0.283456  0.270526  0.270420  0.275419  0.278649  0.281161  0.284249   \n",
      "135    0.287789  0.274420  0.278691  0.281376  0.284379  0.285085  0.285530   \n",
      "136    0.302452  0.307957  0.301004  0.303913  0.313479  0.314566  0.314489   \n",
      "137    0.305496  0.307234  0.311763  0.309905  0.324197  0.318779  0.321143   \n",
      "...         ...       ...       ...       ...       ...       ...       ...   \n",
      "56648  0.341336  0.347537  0.356301  0.351452  0.360055  0.355910  0.363824   \n",
      "56649  0.349783  0.345653  0.347350  0.355596  0.349943  0.356832  0.361901   \n",
      "56650  0.342209  0.339029  0.342766  0.347505  0.348038  0.352201  0.360161   \n",
      "56651  0.325308  0.327312  0.331760  0.329689  0.336082  0.338674  0.340760   \n",
      "56847  0.311286  0.309588  0.304008  0.311212  0.315807  0.313846  0.312728   \n",
      "\n",
      "              8         9        10  ...       222       223       224  \\\n",
      "133    0.277440  0.273974  0.278992  ...  0.170559  0.170762  0.169384   \n",
      "134    0.281135  0.285175  0.288197  ...  0.173447  0.173539  0.175502   \n",
      "135    0.288157  0.292522  0.290701  ...  0.161600  0.166806  0.166618   \n",
      "136    0.320330  0.320897  0.322594  ...  0.192390  0.189159  0.189692   \n",
      "137    0.326530  0.326577  0.330332  ...  0.197168  0.194648  0.193093   \n",
      "...         ...       ...       ...  ...       ...       ...       ...   \n",
      "56648  0.361684  0.364141  0.368471  ...  0.310573  0.309208  0.305370   \n",
      "56649  0.360709  0.358757  0.361252  ...  0.309890  0.304475  0.308957   \n",
      "56650  0.355668  0.355665  0.356380  ...  0.305254  0.305258  0.298859   \n",
      "56651  0.338351  0.340406  0.342822  ...  0.309628  0.307832  0.307411   \n",
      "56847  0.321781  0.317814  0.321809  ...  0.298656  0.292638  0.297259   \n",
      "\n",
      "            225       226       227       228       229  completelinkMin  \\\n",
      "133    0.172206  0.172747  0.174199  0.175075  0.177153                3   \n",
      "134    0.173057  0.175773  0.177080  0.178098  0.179642                3   \n",
      "135    0.163038  0.163193  0.169989  0.171432  0.175947                3   \n",
      "136    0.190596  0.193009  0.196159  0.193602  0.202644                3   \n",
      "137    0.199432  0.198565  0.194222  0.204245  0.199952                3   \n",
      "...         ...       ...       ...       ...       ...              ...   \n",
      "56648  0.304704  0.303034  0.304955  0.302210  0.301902                3   \n",
      "56649  0.305641  0.307771  0.307432  0.313254  0.309433                3   \n",
      "56650  0.305549  0.304264  0.302701  0.299729  0.300724                3   \n",
      "56651  0.306909  0.310441  0.307714  0.309660  0.307801                3   \n",
      "56847  0.296276  0.290493  0.293206  0.291549  0.293531                3   \n",
      "\n",
      "       wardMin  \n",
      "133          3  \n",
      "134          3  \n",
      "135          3  \n",
      "136          1  \n",
      "137          1  \n",
      "...        ...  \n",
      "56648        1  \n",
      "56649        1  \n",
      "56650        1  \n",
      "56651        1  \n",
      "56847        1  \n",
      "\n",
      "[43829 rows x 231 columns]\n"
     ]
    }
   ],
   "source": [
    "df['wardMin']=wardlabel.tolist()\n",
    "print (df)"
   ]
  },
  {
   "cell_type": "code",
   "execution_count": 61,
   "metadata": {},
   "outputs": [
    {
     "name": "stdout",
     "output_type": "stream",
     "text": [
      "       Unnamed: 0    0    1    2    3    4    5    6    7    8  ...  222  223  \\\n",
      "0               0  0.0  0.0  0.0  0.0  0.0  0.0  0.0  0.0  0.0  ...  0.0  0.0   \n",
      "1               1  0.0  0.0  0.0  0.0  0.0  0.0  0.0  0.0  0.0  ...  0.0  0.0   \n",
      "2               2  0.0  0.0  0.0  0.0  0.0  0.0  0.0  0.0  0.0  ...  0.0  0.0   \n",
      "3               3  0.0  0.0  0.0  0.0  0.0  0.0  0.0  0.0  0.0  ...  0.0  0.0   \n",
      "4               4  0.0  0.0  0.0  0.0  0.0  0.0  0.0  0.0  0.0  ...  0.0  0.0   \n",
      "...           ...  ...  ...  ...  ...  ...  ...  ...  ...  ...  ...  ...  ...   \n",
      "56995       56995  0.0  0.0  0.0  0.0  0.0  0.0  0.0  0.0  0.0  ...  0.0  0.0   \n",
      "56996       56996  0.0  0.0  0.0  0.0  0.0  0.0  0.0  0.0  0.0  ...  0.0  0.0   \n",
      "56997       56997  0.0  0.0  0.0  0.0  0.0  0.0  0.0  0.0  0.0  ...  0.0  0.0   \n",
      "56998       56998  0.0  0.0  0.0  0.0  0.0  0.0  0.0  0.0  0.0  ...  0.0  0.0   \n",
      "56999       56999  0.0  0.0  0.0  0.0  0.0  0.0  0.0  0.0  0.0  ...  0.0  0.0   \n",
      "\n",
      "       224  225  226  227  228  229  minerals  wardMin  \n",
      "0      0.0  0.0  0.0  0.0  0.0  0.0         1      NaN  \n",
      "1      0.0  0.0  0.0  0.0  0.0  0.0         1      NaN  \n",
      "2      0.0  0.0  0.0  0.0  0.0  0.0         1      NaN  \n",
      "3      0.0  0.0  0.0  0.0  0.0  0.0         1      NaN  \n",
      "4      0.0  0.0  0.0  0.0  0.0  0.0         1      NaN  \n",
      "...    ...  ...  ...  ...  ...  ...       ...      ...  \n",
      "56995  0.0  0.0  0.0  0.0  0.0  0.0         1      NaN  \n",
      "56996  0.0  0.0  0.0  0.0  0.0  0.0         1      NaN  \n",
      "56997  0.0  0.0  0.0  0.0  0.0  0.0         1      NaN  \n",
      "56998  0.0  0.0  0.0  0.0  0.0  0.0         1      NaN  \n",
      "56999  0.0  0.0  0.0  0.0  0.0  0.0         1      NaN  \n",
      "\n",
      "[57000 rows x 233 columns]\n"
     ]
    }
   ],
   "source": [
    "df1 = pd.read_csv('data.csv')\n",
    "df2=df['wardMin']\n",
    "MMWard=pd.concat([df1, df2], axis=1)\n",
    "print(MMWard)"
   ]
  },
  {
   "cell_type": "code",
   "execution_count": 62,
   "metadata": {},
   "outputs": [
    {
     "data": {
      "text/plain": [
       "<matplotlib.colorbar.Colorbar at 0x235f9b29c88>"
      ]
     },
     "execution_count": 62,
     "metadata": {},
     "output_type": "execute_result"
    },
    {
     "data": {
      "image/png": "[encoded data removed]",
      "text/plain": [
       "<Figure size 432x288 with 2 Axes>"
      ]
     },
     "metadata": {
      "needs_background": "light"
     },
     "output_type": "display_data"
    }
   ],
   "source": [
    "MMWard.drop(['Unnamed: 0','minerals'],axis=1, inplace=True)\n",
    "imageNpy=MMWard.to_numpy()\n",
    "groundTruth=imageNpy.reshape(285, 200, 231)\n",
    "gt=groundTruth[:, :, 230]\n",
    "plt.imshow(gt, cmap=plt.cm.get_cmap('viridis',4))\n",
    "plt.colorbar()"
   ]
  },
  {
   "cell_type": "code",
   "execution_count": 64,
   "metadata": {},
   "outputs": [
    {
     "name": "stdout",
     "output_type": "stream",
     "text": [
      "         0    1    2    3    4    5    6    7    8    9  ...  222  223  224  \\\n",
      "0      0.0  0.0  0.0  0.0  0.0  0.0  0.0  0.0  0.0  0.0  ...  0.0  0.0  0.0   \n",
      "1      0.0  0.0  0.0  0.0  0.0  0.0  0.0  0.0  0.0  0.0  ...  0.0  0.0  0.0   \n",
      "2      0.0  0.0  0.0  0.0  0.0  0.0  0.0  0.0  0.0  0.0  ...  0.0  0.0  0.0   \n",
      "3      0.0  0.0  0.0  0.0  0.0  0.0  0.0  0.0  0.0  0.0  ...  0.0  0.0  0.0   \n",
      "4      0.0  0.0  0.0  0.0  0.0  0.0  0.0  0.0  0.0  0.0  ...  0.0  0.0  0.0   \n",
      "...    ...  ...  ...  ...  ...  ...  ...  ...  ...  ...  ...  ...  ...  ...   \n",
      "56995  0.0  0.0  0.0  0.0  0.0  0.0  0.0  0.0  0.0  0.0  ...  0.0  0.0  0.0   \n",
      "56996  0.0  0.0  0.0  0.0  0.0  0.0  0.0  0.0  0.0  0.0  ...  0.0  0.0  0.0   \n",
      "56997  0.0  0.0  0.0  0.0  0.0  0.0  0.0  0.0  0.0  0.0  ...  0.0  0.0  0.0   \n",
      "56998  0.0  0.0  0.0  0.0  0.0  0.0  0.0  0.0  0.0  0.0  ...  0.0  0.0  0.0   \n",
      "56999  0.0  0.0  0.0  0.0  0.0  0.0  0.0  0.0  0.0  0.0  ...  0.0  0.0  0.0   \n",
      "\n",
      "       225  226  227  228  229  wardMin  mineralogy  \n",
      "0      0.0  0.0  0.0  0.0  0.0      NaN         NaN  \n",
      "1      0.0  0.0  0.0  0.0  0.0      NaN         NaN  \n",
      "2      0.0  0.0  0.0  0.0  0.0      NaN         NaN  \n",
      "3      0.0  0.0  0.0  0.0  0.0      NaN         NaN  \n",
      "4      0.0  0.0  0.0  0.0  0.0      NaN         NaN  \n",
      "...    ...  ...  ...  ...  ...      ...         ...  \n",
      "56995  0.0  0.0  0.0  0.0  0.0      NaN         NaN  \n",
      "56996  0.0  0.0  0.0  0.0  0.0      NaN         NaN  \n",
      "56997  0.0  0.0  0.0  0.0  0.0      NaN         NaN  \n",
      "56998  0.0  0.0  0.0  0.0  0.0      NaN         NaN  \n",
      "56999  0.0  0.0  0.0  0.0  0.0      NaN         NaN  \n",
      "\n",
      "[57000 rows x 232 columns]\n"
     ]
    }
   ],
   "source": [
    "Mineralogy= {1: \"Tourmaline\",\n",
    "            2: \"Illite\",\n",
    "            3: \"Muscovite\"}\n",
    "\n",
    "MMWard['mineralogy']=MMWard['wardMin'].map(Mineralogy) #assign the mineralogy into the dataframe\n",
    "print (MMWard)"
   ]
  },
  {
   "cell_type": "code",
   "execution_count": 121,
   "metadata": {},
   "outputs": [],
   "source": [
    "MMWard.to_csv('MMward.csv')"
   ]
  },
  {
   "cell_type": "markdown",
   "metadata": {},
   "source": [
    "## Check spectrum"
   ]
  },
  {
   "cell_type": "code",
   "execution_count": 60,
   "metadata": {},
   "outputs": [
    {
     "ename": "ValueError",
     "evalue": "cannot reshape array of size 13224000 into shape (285,200,231)",
     "output_type": "error",
     "traceback": [
      "\u001b[1;31m---------------------------------------------------------------------------\u001b[0m",
      "\u001b[1;31mValueError\u001b[0m                                Traceback (most recent call last)",
      "\u001b[1;32m<ipython-input-60-d3630cc46016>\u001b[0m in \u001b[0;36m<module>\u001b[1;34m\u001b[0m\n\u001b[0;32m      1\u001b[0m \u001b[1;32mimport\u001b[0m \u001b[0mplotly\u001b[0m\u001b[1;33m.\u001b[0m\u001b[0mexpress\u001b[0m \u001b[1;32mas\u001b[0m \u001b[0mpx\u001b[0m\u001b[1;33m\u001b[0m\u001b[1;33m\u001b[0m\u001b[0m\n\u001b[0;32m      2\u001b[0m \u001b[0mimagenpy\u001b[0m\u001b[1;33m=\u001b[0m\u001b[0mMMcomplete\u001b[0m\u001b[1;33m.\u001b[0m\u001b[0mto_numpy\u001b[0m\u001b[1;33m(\u001b[0m\u001b[1;33m)\u001b[0m\u001b[1;33m\u001b[0m\u001b[1;33m\u001b[0m\u001b[0m\n\u001b[1;32m----> 3\u001b[1;33m \u001b[0mclassified\u001b[0m\u001b[1;33m=\u001b[0m\u001b[0mimagenpy\u001b[0m\u001b[1;33m.\u001b[0m\u001b[0mreshape\u001b[0m\u001b[1;33m(\u001b[0m\u001b[1;36m285\u001b[0m\u001b[1;33m,\u001b[0m \u001b[1;36m200\u001b[0m\u001b[1;33m,\u001b[0m \u001b[1;36m231\u001b[0m\u001b[1;33m)\u001b[0m\u001b[1;33m\u001b[0m\u001b[1;33m\u001b[0m\u001b[0m\n\u001b[0m\u001b[0;32m      4\u001b[0m \u001b[0mfig\u001b[0m \u001b[1;33m=\u001b[0m \u001b[0mpx\u001b[0m\u001b[1;33m.\u001b[0m\u001b[0mimshow\u001b[0m\u001b[1;33m(\u001b[0m\u001b[0mclassified\u001b[0m\u001b[1;33m[\u001b[0m\u001b[1;33m:\u001b[0m\u001b[1;33m,\u001b[0m \u001b[1;33m:\u001b[0m\u001b[1;33m,\u001b[0m \u001b[1;36m230\u001b[0m\u001b[1;33m]\u001b[0m\u001b[1;33m,\u001b[0m \u001b[0mcolor_continuous_scale\u001b[0m\u001b[1;33m=\u001b[0m\u001b[1;34m'viridis'\u001b[0m\u001b[1;33m)\u001b[0m\u001b[1;33m\u001b[0m\u001b[1;33m\u001b[0m\u001b[0m\n\u001b[0;32m      5\u001b[0m \u001b[0mfig\u001b[0m\u001b[1;33m.\u001b[0m\u001b[0mshow\u001b[0m\u001b[1;33m(\u001b[0m\u001b[1;33m)\u001b[0m\u001b[1;33m\u001b[0m\u001b[1;33m\u001b[0m\u001b[0m\n",
      "\u001b[1;31mValueError\u001b[0m: cannot reshape array of size 13224000 into shape (285,200,231)"
     ]
    }
   ],
   "source": [
    "import plotly.express as px\n",
    "imagenpy=MMcomplete.to_numpy()\n",
    "classified=imagenpy.reshape(285, 200, 231)\n",
    "fig = px.imshow(classified[:, :, 230], color_continuous_scale='viridis')\n",
    "fig.show()"
   ]
  },
  {
   "cell_type": "code",
   "execution_count": 46,
   "metadata": {},
   "outputs": [],
   "source": [
    "%matplotlib inline\n",
    "import numpy as np\n",
    "import pandas as pd\n",
    "import matplotlib\n",
    "import matplotlib.pyplot as plt\n",
    "from spectral import *\n",
    "import spectral.io.envi as envi"
   ]
  },
  {
   "cell_type": "code",
   "execution_count": 48,
   "metadata": {},
   "outputs": [
    {
     "name": "stdout",
     "output_type": "stream",
     "text": [
      "(285, 200, 230)\n"
     ]
    }
   ],
   "source": [
    "data_ref = envi.open('10a_101012-120551_refl_ss.hdr', '10a_101012-120551_refl_ss.dat')\n",
    "data = np.array(data_ref.load())\n",
    "print (data.shape) # wavelength1043-2486 nm in 230 bands"
   ]
  },
  {
   "cell_type": "code",
   "execution_count": 52,
   "metadata": {},
   "outputs": [
    {
     "data": {
      "image/png": "[encoded data removed]",
      "text/plain": [
       "<Figure size 432x288 with 1 Axes>"
      ]
     },
     "metadata": {
      "needs_background": "light"
     },
     "output_type": "display_data"
    }
   ],
   "source": [
    "#select pixel from the image and check the spectra\n",
    "Tourmaline = data[182,52,:] #y,x,wavelength\n",
    "plt.plot(Tourmaline)\n",
    "plt.show()"
   ]
  },
  {
   "cell_type": "code",
   "execution_count": 58,
   "metadata": {},
   "outputs": [
    {
     "data": {
      "image/png": "[encoded data removed]",
      "text/plain": [
       "<Figure size 432x288 with 1 Axes>"
      ]
     },
     "metadata": {
      "needs_background": "light"
     },
     "output_type": "display_data"
    }
   ],
   "source": [
    "#select pixel from the image and check the spectra\n",
    "Muscovite = data[122,25,:] #y,x,wavelength\n",
    "plt.plot(Muscovite)\n",
    "plt.show()"
   ]
  },
  {
   "cell_type": "code",
   "execution_count": 60,
   "metadata": {},
   "outputs": [
    {
     "data": {
      "image/png": "[encoded data removed]",
      "text/plain": [
       "<Figure size 432x288 with 1 Axes>"
      ]
     },
     "metadata": {
      "needs_background": "light"
     },
     "output_type": "display_data"
    }
   ],
   "source": [
    "#select pixel from the image and check the spectra\n",
    "Illite = data[272,153,:] #y,x,wavelength\n",
    "plt.plot(Illite)\n",
    "plt.show()"
   ]
  },
  {
   "cell_type": "markdown",
   "metadata": {},
   "source": [
    "## GroundtruthSample 10a"
   ]
  },
  {
   "cell_type": "code",
   "execution_count": 1,
   "metadata": {},
   "outputs": [],
   "source": [
    "from PIL import Image\n",
    "im = Image.open('img_minmap_10a_v16.tif')\n",
    "im.show()"
   ]
  },
  {
   "cell_type": "code",
   "execution_count": 3,
   "metadata": {},
   "outputs": [],
   "source": [
    "import matplotlib.pyplot as plt\n",
    "rgt = plt.imread('img_minmap_10a_v16.tif')"
   ]
  },
  {
   "cell_type": "code",
   "execution_count": 4,
   "metadata": {},
   "outputs": [
    {
     "data": {
      "text/plain": [
       "<matplotlib.colorbar.Colorbar at 0x233b9237808>"
      ]
     },
     "execution_count": 4,
     "metadata": {},
     "output_type": "execute_result"
    },
    {
     "data": {
      "image/png": "[encoded data removed]",
      "text/plain": [
       "<Figure size 432x288 with 2 Axes>"
      ]
     },
     "metadata": {
      "needs_background": "light"
     },
     "output_type": "display_data"
    }
   ],
   "source": [
    "plt.imshow(rgt, cmap=plt.cm.get_cmap('viridis',4))\n",
    "plt.colorbar()"
   ]
  },
  {
   "cell_type": "code",
   "execution_count": 7,
   "metadata": {},
   "outputs": [
    {
     "name": "stdout",
     "output_type": "stream",
     "text": [
      "[[[255 255 255]\n",
      "  [255 255 255]\n",
      "  [255 255 255]\n",
      "  ...\n",
      "  [255 255 255]\n",
      "  [255 255 255]\n",
      "  [255 255 255]]\n",
      "\n",
      " [[255 255 255]\n",
      "  [255 255 255]\n",
      "  [255 255 255]\n",
      "  ...\n",
      "  [255 255 255]\n",
      "  [255 255 255]\n",
      "  [255 255 255]]\n",
      "\n",
      " [[255 255 255]\n",
      "  [255 255 255]\n",
      "  [255 255 255]\n",
      "  ...\n",
      "  [255 255 255]\n",
      "  [255 255 255]\n",
      "  [255 255 255]]\n",
      "\n",
      " ...\n",
      "\n",
      " [[255 255 255]\n",
      "  [255 255 255]\n",
      "  [255 255 255]\n",
      "  ...\n",
      "  [255 255 255]\n",
      "  [255 255 255]\n",
      "  [255 255 255]]\n",
      "\n",
      " [[255 255 255]\n",
      "  [255 255 255]\n",
      "  [255 255 255]\n",
      "  ...\n",
      "  [255 255 255]\n",
      "  [255 255 255]\n",
      "  [255 255 255]]\n",
      "\n",
      " [[255 255 255]\n",
      "  [255 255 255]\n",
      "  [255 255 255]\n",
      "  ...\n",
      "  [255 255 255]\n",
      "  [255 255 255]\n",
      "  [255 255 255]]]\n"
     ]
    }
   ],
   "source": [
    "# RealGT=pd.DataFrame(rgt)\n",
    "\n",
    "print (rgt)"
   ]
  },
  {
   "cell_type": "code",
   "execution_count": 9,
   "metadata": {},
   "outputs": [
    {
     "data": {
      "text/plain": [
       "(285, 200, 3)"
      ]
     },
     "execution_count": 9,
     "metadata": {},
     "output_type": "execute_result"
    }
   ],
   "source": [
    "rgt.shape"
   ]
  },
  {
   "cell_type": "code",
   "execution_count": 10,
   "metadata": {},
   "outputs": [
    {
     "name": "stdout",
     "output_type": "stream",
     "text": [
      "(57000, 3)\n"
     ]
    }
   ],
   "source": [
    "from sklearn.cluster import KMeans\n",
    "gt = rgt.reshape((57000, 3))\n",
    "print (gt.shape)"
   ]
  },
  {
   "cell_type": "code",
   "execution_count": 12,
   "metadata": {},
   "outputs": [],
   "source": [
    "imagedf=pd.DataFrame(gt)\n",
    "def optimise_k_means(data, max_k):\n",
    "    means = []\n",
    "    inertias = []\n",
    "    \n",
    "    for k in range(1,max_k):\n",
    "        kmeans = KMeans(n_clusters=k)\n",
    "        kmeans.fit(data)\n",
    "        means.append(k)\n",
    "        inertias.append(kmeans.inertia_)\n",
    "    return means, inertias   "
   ]
  },
  {
   "cell_type": "code",
   "execution_count": 13,
   "metadata": {},
   "outputs": [
    {
     "data": {
      "image/png": "[encoded data removed]",
      "text/plain": [
       "<Figure size 432x288 with 1 Axes>"
      ]
     },
     "metadata": {
      "needs_background": "light"
     },
     "output_type": "display_data"
    }
   ],
   "source": [
    "means, inertias= optimise_k_means(imagedf, 10)\n",
    "\n",
    "plt.plot(means, inertias, 'o-')\n",
    "plt.xlabel(\"Number of Clusters\")\n",
    "plt.ylabel(\"Inertia\")\n",
    "plt.show()"
   ]
  },
  {
   "cell_type": "code",
   "execution_count": 23,
   "metadata": {},
   "outputs": [],
   "source": [
    "kmeans = KMeans(n_clusters=5)\n",
    "kmeans.fit(imagedf)\n",
    "imagedf['minerals'] = kmeans.labels_"
   ]
  },
  {
   "cell_type": "code",
   "execution_count": 24,
   "metadata": {},
   "outputs": [
    {
     "name": "stdout",
     "output_type": "stream",
     "text": [
      "(57000, 4)\n"
     ]
    }
   ],
   "source": [
    "imagenpy=imagedf.to_numpy()\n",
    "print (imagenpy.shape)"
   ]
  },
  {
   "cell_type": "code",
   "execution_count": 25,
   "metadata": {},
   "outputs": [
    {
     "data": {
      "text/plain": [
       "<matplotlib.colorbar.Colorbar at 0x233ea0ab608>"
      ]
     },
     "execution_count": 25,
     "metadata": {},
     "output_type": "execute_result"
    },
    {
     "data": {
      "image/png": "[encoded data removed]",
      "text/plain": [
       "<Figure size 432x288 with 2 Axes>"
      ]
     },
     "metadata": {
      "needs_background": "light"
     },
     "output_type": "display_data"
    }
   ],
   "source": [
    "classified=imagenpy.reshape(285, 200, 4)\n",
    "MinMapKmeans=classified[:, :, 3]\n",
    "plt.imshow(MinMapKmeans, cmap=plt.cm.get_cmap('viridis',4))\n",
    "plt.colorbar()"
   ]
  },
  {
   "cell_type": "code",
   "execution_count": 28,
   "metadata": {},
   "outputs": [],
   "source": [
    "Mineralogy= {0: \"Illite HX\",\n",
    "            1: \"NaN\",\n",
    "            2: \"Tourmaline\",\n",
    "            3: \"Muscovite\",\n",
    "            4: \"Illite\"}\n",
    "\n",
    "imagedf['mineralogy']=imagedf['minerals'].map(Mineralogy) #assign the mineralogy into the dataframe"
   ]
  },
  {
   "cell_type": "code",
   "execution_count": 29,
   "metadata": {},
   "outputs": [
    {
     "name": "stdout",
     "output_type": "stream",
     "text": [
      "         0    1    2  minerals mineralogy\n",
      "0      255  255  255         1        NaN\n",
      "1      255  255  255         1        NaN\n",
      "2      255  255  255         1        NaN\n",
      "3      255  255  255         1        NaN\n",
      "4      255  255  255         1        NaN\n",
      "...    ...  ...  ...       ...        ...\n",
      "56995  255  255  255         1        NaN\n",
      "56996  255  255  255         1        NaN\n",
      "56997  255  255  255         1        NaN\n",
      "56998  255  255  255         1        NaN\n",
      "56999  255  255  255         1        NaN\n",
      "\n",
      "[57000 rows x 5 columns]\n"
     ]
    }
   ],
   "source": [
    "print (imagedf)"
   ]
  },
  {
   "cell_type": "code",
   "execution_count": 74,
   "metadata": {},
   "outputs": [
    {
     "name": "stdout",
     "output_type": "stream",
     "text": [
      "         0    1    2  minerals mineralogy\n",
      "0      255  255  255         1        NaN\n",
      "1      255  255  255         1        NaN\n",
      "2      255  255  255         1        NaN\n",
      "3      255  255  255         1        NaN\n",
      "4      255  255  255         1        NaN\n",
      "...    ...  ...  ...       ...        ...\n",
      "56995  255  255  255         1        NaN\n",
      "56996  255  255  255         1        NaN\n",
      "56997  255  255  255         1        NaN\n",
      "56998  255  255  255         1        NaN\n",
      "56999  255  255  255         1        NaN\n",
      "\n",
      "[57000 rows x 5 columns]\n"
     ]
    }
   ],
   "source": [
    "GT=imagedf\n",
    "print (GT)"
   ]
  },
  {
   "cell_type": "code",
   "execution_count": 45,
   "metadata": {},
   "outputs": [],
   "source": [
    "GT.to_csv('groundtruth.csv')"
   ]
  },
  {
   "cell_type": "code",
   "execution_count": 104,
   "metadata": {},
   "outputs": [
    {
     "data": {
      "text/plain": [
       "array(['NaN', 'Muscovite', 'Illite', 'Tourmaline'], dtype=object)"
      ]
     },
     "execution_count": 104,
     "metadata": {},
     "output_type": "execute_result"
    }
   ],
   "source": [
    "gtx=GT.replace(\"Illite HX\", \"Illite\")\n",
    "gtx.mineralogy.unique()"
   ]
  },
  {
   "cell_type": "code",
   "execution_count": 105,
   "metadata": {},
   "outputs": [
    {
     "name": "stdout",
     "output_type": "stream",
     "text": [
      "0        NaN\n",
      "1        NaN\n",
      "2        NaN\n",
      "3        NaN\n",
      "4        NaN\n",
      "        ... \n",
      "56995    NaN\n",
      "56996    NaN\n",
      "56997    NaN\n",
      "56998    NaN\n",
      "56999    NaN\n",
      "Name: mineralogy, Length: 57000, dtype: object\n"
     ]
    }
   ],
   "source": [
    "y_true=gtx[\"mineralogy\"]\n",
    "print (y_true)"
   ]
  },
  {
   "cell_type": "code",
   "execution_count": 106,
   "metadata": {},
   "outputs": [
    {
     "data": {
      "text/plain": [
       "array(['NaN', 'Muscovite', 'Tourmaline', 'Illite'], dtype=object)"
      ]
     },
     "execution_count": 106,
     "metadata": {},
     "output_type": "execute_result"
    }
   ],
   "source": [
    "MMcx=MMcomplete.replace(np.nan, \"NaN\")\n",
    "MMcx.mineralogy.unique()"
   ]
  },
  {
   "cell_type": "code",
   "execution_count": 107,
   "metadata": {},
   "outputs": [
    {
     "name": "stdout",
     "output_type": "stream",
     "text": [
      "0        NaN\n",
      "1        NaN\n",
      "2        NaN\n",
      "3        NaN\n",
      "4        NaN\n",
      "        ... \n",
      "56995    NaN\n",
      "56996    NaN\n",
      "56997    NaN\n",
      "56998    NaN\n",
      "56999    NaN\n",
      "Name: mineralogy, Length: 57000, dtype: object\n"
     ]
    }
   ],
   "source": [
    "y_pred=MMcx['mineralogy']\n",
    "print (y_pred)"
   ]
  },
  {
   "cell_type": "code",
   "execution_count": 117,
   "metadata": {},
   "outputs": [
    {
     "name": "stdout",
     "output_type": "stream",
     "text": [
      "[[12440     0     2     0]\n",
      " [  396 23386  4110   236]\n",
      " [  144   672  5037     0]\n",
      " [  191  8331  1586   469]]\n"
     ]
    }
   ],
   "source": [
    "from sklearn import metrics\n",
    "cf=confusion_matrix(y_true, y_pred, labels=['NaN', 'Muscovite', 'Tourmaline', 'Illite'])\n",
    "print (cf)"
   ]
  },
  {
   "cell_type": "code",
   "execution_count": 119,
   "metadata": {},
   "outputs": [
    {
     "name": "stdout",
     "output_type": "stream",
     "text": [
      "              precision    recall  f1-score   support\n",
      "\n",
      "         NaN       0.94      1.00      0.97     12442\n",
      "   Muscovite       0.72      0.83      0.77     28128\n",
      "  Tourmaline       0.47      0.86      0.61      5853\n",
      "      Illite       0.67      0.04      0.08     10577\n",
      "\n",
      "    accuracy                           0.73     57000\n",
      "   macro avg       0.70      0.68      0.61     57000\n",
      "weighted avg       0.73      0.73      0.67     57000\n",
      "\n"
     ]
    }
   ],
   "source": [
    "cf_report=metrics.classification_report(y_true, y_pred, labels=['NaN', 'Muscovite', 'Tourmaline', 'Illite'])\n",
    "print (cf_report)"
   ]
  },
  {
   "cell_type": "code",
   "execution_count": 129,
   "metadata": {},
   "outputs": [
    {
     "data": {
      "image/png": "[encoded data removed]",
      "text/plain": [
       "<Figure size 432x288 with 2 Axes>"
      ]
     },
     "metadata": {
      "needs_background": "light"
     },
     "output_type": "display_data"
    }
   ],
   "source": [
    "ax = sns.heatmap(cf, fmt='', cmap='Blues')\n",
    "\n",
    "ax.set_title('Sample 10a Complete links');\n",
    "ax.set_xlabel('\\nPredicted Values')\n",
    "ax.set_ylabel('Actual Values ');\n",
    "\n",
    "## Ticket labels - List must be in alphabetical order\n",
    "ax.xaxis.set_ticklabels(['NaN', 'Muscovite', 'Tourmaline', 'Illite'])\n",
    "ax.yaxis.set_ticklabels(['NaN', 'Muscovite', 'Tourmaline', 'Illite'])\n",
    "\n",
    "## Display the visualization of the Confusion Matrix.\n",
    "plt.show()"
   ]
  },
  {
   "cell_type": "code",
   "execution_count": null,
   "metadata": {},
   "outputs": [],
   "source": []
  }
 ],
 "metadata": {
  "kernelspec": {
   "display_name": "Python 3",
   "language": "python",
   "name": "python3"
  },
  "language_info": {
   "codemirror_mode": {
    "name": "ipython",
    "version": 3
   },
   "file_extension": ".py",
   "mimetype": "text/x-python",
   "name": "python",
   "nbconvert_exporter": "python",
   "pygments_lexer": "ipython3",
   "version": "3.7.7"
  }
 },
 "nbformat": 4,
 "nbformat_minor": 5
}
