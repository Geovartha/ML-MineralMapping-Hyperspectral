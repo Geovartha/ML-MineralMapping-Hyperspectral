{
 "cells": [
  {
   "cell_type": "code",
   "execution_count": 1,
   "metadata": {},
   "outputs": [],
   "source": [
    "import pandas as pd\n",
    "import matplotlib.pyplot as plt\n",
    "import numpy as np"
   ]
  },
  {
   "cell_type": "code",
   "execution_count": 43,
   "metadata": {},
   "outputs": [],
   "source": [
    "df = pd.read_csv('data.csv')"
   ]
  },
  {
   "cell_type": "code",
   "execution_count": 44,
   "metadata": {},
   "outputs": [
    {
     "name": "stdout",
     "output_type": "stream",
     "text": [
      "         0    1    2    3    4    5    6    7    8    9  ...  221  222  223  \\\n",
      "0      0.0  0.0  0.0  0.0  0.0  0.0  0.0  0.0  0.0  0.0  ...  0.0  0.0  0.0   \n",
      "1      0.0  0.0  0.0  0.0  0.0  0.0  0.0  0.0  0.0  0.0  ...  0.0  0.0  0.0   \n",
      "2      0.0  0.0  0.0  0.0  0.0  0.0  0.0  0.0  0.0  0.0  ...  0.0  0.0  0.0   \n",
      "3      0.0  0.0  0.0  0.0  0.0  0.0  0.0  0.0  0.0  0.0  ...  0.0  0.0  0.0   \n",
      "4      0.0  0.0  0.0  0.0  0.0  0.0  0.0  0.0  0.0  0.0  ...  0.0  0.0  0.0   \n",
      "...    ...  ...  ...  ...  ...  ...  ...  ...  ...  ...  ...  ...  ...  ...   \n",
      "56995  0.0  0.0  0.0  0.0  0.0  0.0  0.0  0.0  0.0  0.0  ...  0.0  0.0  0.0   \n",
      "56996  0.0  0.0  0.0  0.0  0.0  0.0  0.0  0.0  0.0  0.0  ...  0.0  0.0  0.0   \n",
      "56997  0.0  0.0  0.0  0.0  0.0  0.0  0.0  0.0  0.0  0.0  ...  0.0  0.0  0.0   \n",
      "56998  0.0  0.0  0.0  0.0  0.0  0.0  0.0  0.0  0.0  0.0  ...  0.0  0.0  0.0   \n",
      "56999  0.0  0.0  0.0  0.0  0.0  0.0  0.0  0.0  0.0  0.0  ...  0.0  0.0  0.0   \n",
      "\n",
      "       224  225  226  227  228  229  minerals  \n",
      "0      0.0  0.0  0.0  0.0  0.0  0.0         1  \n",
      "1      0.0  0.0  0.0  0.0  0.0  0.0         1  \n",
      "2      0.0  0.0  0.0  0.0  0.0  0.0         1  \n",
      "3      0.0  0.0  0.0  0.0  0.0  0.0         1  \n",
      "4      0.0  0.0  0.0  0.0  0.0  0.0         1  \n",
      "...    ...  ...  ...  ...  ...  ...       ...  \n",
      "56995  0.0  0.0  0.0  0.0  0.0  0.0         1  \n",
      "56996  0.0  0.0  0.0  0.0  0.0  0.0         1  \n",
      "56997  0.0  0.0  0.0  0.0  0.0  0.0         1  \n",
      "56998  0.0  0.0  0.0  0.0  0.0  0.0         1  \n",
      "56999  0.0  0.0  0.0  0.0  0.0  0.0         1  \n",
      "\n",
      "[57000 rows x 231 columns]\n"
     ]
    }
   ],
   "source": [
    "df.drop(['Unnamed: 0'],axis=1, inplace=True)\n",
    "print(df)"
   ]
  },
  {
   "cell_type": "code",
   "execution_count": 45,
   "metadata": {},
   "outputs": [
    {
     "name": "stdout",
     "output_type": "stream",
     "text": [
      "         0    1    2    3    4    5    6    7    8    9  ...  221  222  223  \\\n",
      "0      0.0  0.0  0.0  0.0  0.0  0.0  0.0  0.0  0.0  0.0  ...  0.0  0.0  0.0   \n",
      "1      0.0  0.0  0.0  0.0  0.0  0.0  0.0  0.0  0.0  0.0  ...  0.0  0.0  0.0   \n",
      "2      0.0  0.0  0.0  0.0  0.0  0.0  0.0  0.0  0.0  0.0  ...  0.0  0.0  0.0   \n",
      "3      0.0  0.0  0.0  0.0  0.0  0.0  0.0  0.0  0.0  0.0  ...  0.0  0.0  0.0   \n",
      "4      0.0  0.0  0.0  0.0  0.0  0.0  0.0  0.0  0.0  0.0  ...  0.0  0.0  0.0   \n",
      "...    ...  ...  ...  ...  ...  ...  ...  ...  ...  ...  ...  ...  ...  ...   \n",
      "56995  0.0  0.0  0.0  0.0  0.0  0.0  0.0  0.0  0.0  0.0  ...  0.0  0.0  0.0   \n",
      "56996  0.0  0.0  0.0  0.0  0.0  0.0  0.0  0.0  0.0  0.0  ...  0.0  0.0  0.0   \n",
      "56997  0.0  0.0  0.0  0.0  0.0  0.0  0.0  0.0  0.0  0.0  ...  0.0  0.0  0.0   \n",
      "56998  0.0  0.0  0.0  0.0  0.0  0.0  0.0  0.0  0.0  0.0  ...  0.0  0.0  0.0   \n",
      "56999  0.0  0.0  0.0  0.0  0.0  0.0  0.0  0.0  0.0  0.0  ...  0.0  0.0  0.0   \n",
      "\n",
      "       224  225  226  227  228  229  minerals  \n",
      "0      0.0  0.0  0.0  0.0  0.0  0.0       NaN  \n",
      "1      0.0  0.0  0.0  0.0  0.0  0.0       NaN  \n",
      "2      0.0  0.0  0.0  0.0  0.0  0.0       NaN  \n",
      "3      0.0  0.0  0.0  0.0  0.0  0.0       NaN  \n",
      "4      0.0  0.0  0.0  0.0  0.0  0.0       NaN  \n",
      "...    ...  ...  ...  ...  ...  ...       ...  \n",
      "56995  0.0  0.0  0.0  0.0  0.0  0.0       NaN  \n",
      "56996  0.0  0.0  0.0  0.0  0.0  0.0       NaN  \n",
      "56997  0.0  0.0  0.0  0.0  0.0  0.0       NaN  \n",
      "56998  0.0  0.0  0.0  0.0  0.0  0.0       NaN  \n",
      "56999  0.0  0.0  0.0  0.0  0.0  0.0       NaN  \n",
      "\n",
      "[57000 rows x 231 columns]\n"
     ]
    }
   ],
   "source": [
    "df = df.replace(1.0,np.nan)\n",
    "print(df)"
   ]
  },
  {
   "cell_type": "code",
   "execution_count": 46,
   "metadata": {},
   "outputs": [
    {
     "data": {
      "text/plain": [
       "<matplotlib.colorbar.Colorbar at 0x24897de4d08>"
      ]
     },
     "execution_count": 46,
     "metadata": {},
     "output_type": "execute_result"
    },
    {
     "data": {
      "image/png": "[encoded data removed]",
      "text/plain": [
       "<Figure size 432x288 with 2 Axes>"
      ]
     },
     "metadata": {
      "needs_background": "light"
     },
     "output_type": "display_data"
    }
   ],
   "source": [
    "imageNpy=df.to_numpy()\n",
    "groundTruth=imageNpy.reshape(285, 200, 231)\n",
    "gt=groundTruth[:, :, 230]\n",
    "plt.imshow(gt, cmap=plt.cm.get_cmap('viridis',4))\n",
    "plt.colorbar()"
   ]
  },
  {
   "cell_type": "markdown",
   "metadata": {},
   "source": [
    "### Maintain index?"
   ]
  },
  {
   "cell_type": "code",
   "execution_count": 56,
   "metadata": {},
   "outputs": [
    {
     "name": "stdout",
     "output_type": "stream",
     "text": [
      "       Unnamed: 0    0    1    2    3    4    5    6    7    8  ...  221  222  \\\n",
      "0               0  0.0  0.0  0.0  0.0  0.0  0.0  0.0  0.0  0.0  ...  0.0  0.0   \n",
      "1               1  0.0  0.0  0.0  0.0  0.0  0.0  0.0  0.0  0.0  ...  0.0  0.0   \n",
      "2               2  0.0  0.0  0.0  0.0  0.0  0.0  0.0  0.0  0.0  ...  0.0  0.0   \n",
      "3               3  0.0  0.0  0.0  0.0  0.0  0.0  0.0  0.0  0.0  ...  0.0  0.0   \n",
      "4               4  0.0  0.0  0.0  0.0  0.0  0.0  0.0  0.0  0.0  ...  0.0  0.0   \n",
      "...           ...  ...  ...  ...  ...  ...  ...  ...  ...  ...  ...  ...  ...   \n",
      "56995       56995  0.0  0.0  0.0  0.0  0.0  0.0  0.0  0.0  0.0  ...  0.0  0.0   \n",
      "56996       56996  0.0  0.0  0.0  0.0  0.0  0.0  0.0  0.0  0.0  ...  0.0  0.0   \n",
      "56997       56997  0.0  0.0  0.0  0.0  0.0  0.0  0.0  0.0  0.0  ...  0.0  0.0   \n",
      "56998       56998  0.0  0.0  0.0  0.0  0.0  0.0  0.0  0.0  0.0  ...  0.0  0.0   \n",
      "56999       56999  0.0  0.0  0.0  0.0  0.0  0.0  0.0  0.0  0.0  ...  0.0  0.0   \n",
      "\n",
      "       223  224  225  226  227  228  229  minerals  \n",
      "0      0.0  0.0  0.0  0.0  0.0  0.0  0.0         1  \n",
      "1      0.0  0.0  0.0  0.0  0.0  0.0  0.0         1  \n",
      "2      0.0  0.0  0.0  0.0  0.0  0.0  0.0         1  \n",
      "3      0.0  0.0  0.0  0.0  0.0  0.0  0.0         1  \n",
      "4      0.0  0.0  0.0  0.0  0.0  0.0  0.0         1  \n",
      "...    ...  ...  ...  ...  ...  ...  ...       ...  \n",
      "56995  0.0  0.0  0.0  0.0  0.0  0.0  0.0         1  \n",
      "56996  0.0  0.0  0.0  0.0  0.0  0.0  0.0         1  \n",
      "56997  0.0  0.0  0.0  0.0  0.0  0.0  0.0         1  \n",
      "56998  0.0  0.0  0.0  0.0  0.0  0.0  0.0         1  \n",
      "56999  0.0  0.0  0.0  0.0  0.0  0.0  0.0         1  \n",
      "\n",
      "[57000 rows x 232 columns]\n"
     ]
    }
   ],
   "source": [
    "df2 = pd.read_csv('data.csv')\n",
    "print (df2)"
   ]
  },
  {
   "cell_type": "code",
   "execution_count": 57,
   "metadata": {},
   "outputs": [],
   "source": [
    "# df2 = df2.replace(0,np.nan)\n",
    "# df2.head()\n"
   ]
  },
  {
   "cell_type": "code",
   "execution_count": 58,
   "metadata": {},
   "outputs": [],
   "source": [
    "df2.drop(['Unnamed: 0','minerals'],axis=1, inplace=True)"
   ]
  },
  {
   "cell_type": "code",
   "execution_count": 59,
   "metadata": {},
   "outputs": [
    {
     "name": "stdout",
     "output_type": "stream",
     "text": [
      "              0         1         2         3         4         5         6  \\\n",
      "133    0.263249  0.270448  0.262565  0.257707  0.264399  0.271928  0.269221   \n",
      "134    0.277591  0.283456  0.270526  0.270420  0.275419  0.278649  0.281161   \n",
      "135    0.270668  0.287789  0.274420  0.278691  0.281376  0.284379  0.285085   \n",
      "136    0.303461  0.302452  0.307957  0.301004  0.303913  0.313479  0.314566   \n",
      "137    0.301186  0.305496  0.307234  0.311763  0.309905  0.324197  0.318779   \n",
      "...         ...       ...       ...       ...       ...       ...       ...   \n",
      "56648  0.341147  0.341336  0.347537  0.356301  0.351452  0.360055  0.355910   \n",
      "56649  0.346307  0.349783  0.345653  0.347350  0.355596  0.349943  0.356832   \n",
      "56650  0.339493  0.342209  0.339029  0.342766  0.347505  0.348038  0.352201   \n",
      "56651  0.320525  0.325308  0.327312  0.331760  0.329689  0.336082  0.338674   \n",
      "56847  0.308550  0.311286  0.309588  0.304008  0.311212  0.315807  0.313846   \n",
      "\n",
      "              7         8         9  ...       220       221       222  \\\n",
      "133    0.278453  0.277440  0.273974  ...  0.170869  0.171576  0.170559   \n",
      "134    0.284249  0.281135  0.285175  ...  0.181295  0.177919  0.173447   \n",
      "135    0.285530  0.288157  0.292522  ...  0.167765  0.165032  0.161600   \n",
      "136    0.314489  0.320330  0.320897  ...  0.199920  0.193203  0.192390   \n",
      "137    0.321143  0.326530  0.326577  ...  0.199018  0.198564  0.197168   \n",
      "...         ...       ...       ...  ...       ...       ...       ...   \n",
      "56648  0.363824  0.361684  0.364141  ...  0.314327  0.315747  0.310573   \n",
      "56649  0.361901  0.360709  0.358757  ...  0.311119  0.310360  0.309890   \n",
      "56650  0.360161  0.355668  0.355665  ...  0.308901  0.306169  0.305254   \n",
      "56651  0.340760  0.338351  0.340406  ...  0.319091  0.307249  0.309628   \n",
      "56847  0.312728  0.321781  0.317814  ...  0.304159  0.299911  0.298656   \n",
      "\n",
      "            223       224       225       226       227       228       229  \n",
      "133    0.170762  0.169384  0.172206  0.172747  0.174199  0.175075  0.177153  \n",
      "134    0.173539  0.175502  0.173057  0.175773  0.177080  0.178098  0.179642  \n",
      "135    0.166806  0.166618  0.163038  0.163193  0.169989  0.171432  0.175947  \n",
      "136    0.189159  0.189692  0.190596  0.193009  0.196159  0.193602  0.202644  \n",
      "137    0.194648  0.193093  0.199432  0.198565  0.194222  0.204245  0.199952  \n",
      "...         ...       ...       ...       ...       ...       ...       ...  \n",
      "56648  0.309208  0.305370  0.304704  0.303034  0.304955  0.302210  0.301902  \n",
      "56649  0.304475  0.308957  0.305641  0.307771  0.307432  0.313254  0.309433  \n",
      "56650  0.305258  0.298859  0.305549  0.304264  0.302701  0.299729  0.300724  \n",
      "56651  0.307832  0.307411  0.306909  0.310441  0.307714  0.309660  0.307801  \n",
      "56847  0.292638  0.297259  0.296276  0.290493  0.293206  0.291549  0.293531  \n",
      "\n",
      "[43829 rows x 230 columns]\n"
     ]
    }
   ],
   "source": [
    "df2 = df2[(df2.T != 0).any()]\n",
    "print (df2)"
   ]
  },
  {
   "cell_type": "code",
   "execution_count": null,
   "metadata": {},
   "outputs": [],
   "source": []
  }
 ],
 "metadata": {
  "kernelspec": {
   "display_name": "Python 3",
   "language": "python",
   "name": "python3"
  },
  "language_info": {
   "codemirror_mode": {
    "name": "ipython",
    "version": 3
   },
   "file_extension": ".py",
   "mimetype": "text/x-python",
   "name": "python",
   "nbconvert_exporter": "python",
   "pygments_lexer": "ipython3",
   "version": "3.7.7"
  }
 },
 "nbformat": 4,
 "nbformat_minor": 5
}
